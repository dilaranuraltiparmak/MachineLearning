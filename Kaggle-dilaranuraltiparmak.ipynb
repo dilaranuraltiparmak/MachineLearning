{
 "cells": [
  {
   "cell_type": "code",
   "execution_count": 1,
   "id": "ce65c896",
   "metadata": {
    "execution": {
     "iopub.execute_input": "2021-12-27T13:24:38.187342Z",
     "iopub.status.busy": "2021-12-27T13:24:38.185948Z",
     "iopub.status.idle": "2021-12-27T13:24:39.702017Z",
     "shell.execute_reply": "2021-12-27T13:24:39.701094Z",
     "shell.execute_reply.started": "2021-12-27T10:21:17.355752Z"
    },
    "papermill": {
     "duration": 1.5665,
     "end_time": "2021-12-27T13:24:39.702220",
     "exception": false,
     "start_time": "2021-12-27T13:24:38.135720",
     "status": "completed"
    },
    "tags": []
   },
   "outputs": [],
   "source": [
    "import numpy as np\n",
    "import seaborn as sns\n",
    "import pandas as pd\n",
    "import matplotlib.pyplot as plt\n",
    "\n",
    "from random import randint\n",
    "from sklearn import preprocessing\n",
    "from sklearn.model_selection import train_test_split, GridSearchCV, cross_val_score\n",
    "from sklearn.metrics import confusion_matrix, accuracy_score, classification_report\n",
    "from sklearn.metrics import roc_auc_score, auc, roc_curve, recall_score, f1_score, precision_score\n",
    "from sklearn.naive_bayes import GaussianNB\n",
    "from sklearn.feature_selection import RFE\n",
    "from sklearn.preprocessing import scale\n",
    "\n",
    "from sklearn.neighbors import KNeighborsClassifier\n",
    "from sklearn.tree import DecisionTreeClassifier\n",
    "from warnings import filterwarnings\n",
    "from sklearn import ensemble\n",
    "from sklearn.metrics import confusion_matrix as cm\n",
    "from matplotlib.legend_handler import HandlerLine2D\n",
    "\n",
    "filterwarnings('ignore')\n"
   ]
  },
  {
   "cell_type": "code",
   "execution_count": 2,
   "id": "f0f9fb56",
   "metadata": {
    "execution": {
     "iopub.execute_input": "2021-12-27T13:24:39.793743Z",
     "iopub.status.busy": "2021-12-27T13:24:39.792816Z",
     "iopub.status.idle": "2021-12-27T13:24:39.824134Z",
     "shell.execute_reply": "2021-12-27T13:24:39.824637Z",
     "shell.execute_reply.started": "2021-12-27T10:27:18.747723Z"
    },
    "papermill": {
     "duration": 0.079337,
     "end_time": "2021-12-27T13:24:39.824855",
     "exception": false,
     "start_time": "2021-12-27T13:24:39.745518",
     "status": "completed"
    },
    "tags": []
   },
   "outputs": [],
   "source": [
    "tablet=pd.read_csv('../input/tablet/tablet.csv')\n",
    "df=tablet.copy()"
   ]
  },
  {
   "cell_type": "code",
   "execution_count": 3,
   "id": "90cf7866",
   "metadata": {
    "execution": {
     "iopub.execute_input": "2021-12-27T13:24:39.911281Z",
     "iopub.status.busy": "2021-12-27T13:24:39.910522Z",
     "iopub.status.idle": "2021-12-27T13:24:39.941870Z",
     "shell.execute_reply": "2021-12-27T13:24:39.942404Z",
     "shell.execute_reply.started": "2021-12-27T10:28:18.719110Z"
    },
    "papermill": {
     "duration": 0.075916,
     "end_time": "2021-12-27T13:24:39.942604",
     "exception": false,
     "start_time": "2021-12-27T13:24:39.866688",
     "status": "completed"
    },
    "tags": []
   },
   "outputs": [
    {
     "data": {
      "text/html": [
       "<div>\n",
       "<style scoped>\n",
       "    .dataframe tbody tr th:only-of-type {\n",
       "        vertical-align: middle;\n",
       "    }\n",
       "\n",
       "    .dataframe tbody tr th {\n",
       "        vertical-align: top;\n",
       "    }\n",
       "\n",
       "    .dataframe thead th {\n",
       "        text-align: right;\n",
       "    }\n",
       "</style>\n",
       "<table border=\"1\" class=\"dataframe\">\n",
       "  <thead>\n",
       "    <tr style=\"text-align: right;\">\n",
       "      <th></th>\n",
       "      <th>BataryaGucu</th>\n",
       "      <th>Bluetooth</th>\n",
       "      <th>MikroislemciHizi</th>\n",
       "      <th>CiftHat</th>\n",
       "      <th>OnKameraMP</th>\n",
       "      <th>4G</th>\n",
       "      <th>DahiliBellek</th>\n",
       "      <th>Kalinlik</th>\n",
       "      <th>Agirlik</th>\n",
       "      <th>CekirdekSayisi</th>\n",
       "      <th>ArkaKameraMP</th>\n",
       "      <th>CozunurlukYükseklik</th>\n",
       "      <th>CozunurlukGenislik</th>\n",
       "      <th>RAM</th>\n",
       "      <th>BataryaOmru</th>\n",
       "      <th>3G</th>\n",
       "      <th>Dokunmatik</th>\n",
       "      <th>WiFi</th>\n",
       "      <th>FiyatAraligi</th>\n",
       "      <th>Renk</th>\n",
       "    </tr>\n",
       "  </thead>\n",
       "  <tbody>\n",
       "    <tr>\n",
       "      <th>0</th>\n",
       "      <td>1325</td>\n",
       "      <td>Yok</td>\n",
       "      <td>1.9</td>\n",
       "      <td>Yok</td>\n",
       "      <td>2.0</td>\n",
       "      <td>Yok</td>\n",
       "      <td>50</td>\n",
       "      <td>0.1</td>\n",
       "      <td>146</td>\n",
       "      <td>1</td>\n",
       "      <td>10</td>\n",
       "      <td>499</td>\n",
       "      <td>695</td>\n",
       "      <td>2328.0</td>\n",
       "      <td>2</td>\n",
       "      <td>Var</td>\n",
       "      <td>Yok</td>\n",
       "      <td>Yok</td>\n",
       "      <td>Normal</td>\n",
       "      <td>Beyaz</td>\n",
       "    </tr>\n",
       "    <tr>\n",
       "      <th>1</th>\n",
       "      <td>1046</td>\n",
       "      <td>Var</td>\n",
       "      <td>2.8</td>\n",
       "      <td>Var</td>\n",
       "      <td>0.0</td>\n",
       "      <td>Var</td>\n",
       "      <td>58</td>\n",
       "      <td>0.2</td>\n",
       "      <td>100</td>\n",
       "      <td>8</td>\n",
       "      <td>0</td>\n",
       "      <td>259</td>\n",
       "      <td>1040</td>\n",
       "      <td>3863.0</td>\n",
       "      <td>9</td>\n",
       "      <td>Var</td>\n",
       "      <td>Var</td>\n",
       "      <td>Var</td>\n",
       "      <td>Pahalı</td>\n",
       "      <td>Pembe</td>\n",
       "    </tr>\n",
       "    <tr>\n",
       "      <th>2</th>\n",
       "      <td>843</td>\n",
       "      <td>Yok</td>\n",
       "      <td>1.3</td>\n",
       "      <td>Var</td>\n",
       "      <td>1.0</td>\n",
       "      <td>Yok</td>\n",
       "      <td>16</td>\n",
       "      <td>0.9</td>\n",
       "      <td>119</td>\n",
       "      <td>7</td>\n",
       "      <td>4</td>\n",
       "      <td>593</td>\n",
       "      <td>732</td>\n",
       "      <td>1734.0</td>\n",
       "      <td>14</td>\n",
       "      <td>Yok</td>\n",
       "      <td>Yok</td>\n",
       "      <td>Var</td>\n",
       "      <td>Ucuz</td>\n",
       "      <td>Mor</td>\n",
       "    </tr>\n",
       "    <tr>\n",
       "      <th>3</th>\n",
       "      <td>894</td>\n",
       "      <td>Yok</td>\n",
       "      <td>0.5</td>\n",
       "      <td>Var</td>\n",
       "      <td>1.0</td>\n",
       "      <td>Var</td>\n",
       "      <td>50</td>\n",
       "      <td>0.5</td>\n",
       "      <td>199</td>\n",
       "      <td>3</td>\n",
       "      <td>14</td>\n",
       "      <td>1285</td>\n",
       "      <td>1462</td>\n",
       "      <td>3615.0</td>\n",
       "      <td>6</td>\n",
       "      <td>Var</td>\n",
       "      <td>Yok</td>\n",
       "      <td>Var</td>\n",
       "      <td>Pahalı</td>\n",
       "      <td>Turuncu</td>\n",
       "    </tr>\n",
       "    <tr>\n",
       "      <th>4</th>\n",
       "      <td>936</td>\n",
       "      <td>Yok</td>\n",
       "      <td>1.0</td>\n",
       "      <td>Yok</td>\n",
       "      <td>1.0</td>\n",
       "      <td>Yok</td>\n",
       "      <td>18</td>\n",
       "      <td>0.2</td>\n",
       "      <td>153</td>\n",
       "      <td>3</td>\n",
       "      <td>18</td>\n",
       "      <td>1330</td>\n",
       "      <td>1686</td>\n",
       "      <td>2391.0</td>\n",
       "      <td>3</td>\n",
       "      <td>Var</td>\n",
       "      <td>Var</td>\n",
       "      <td>Var</td>\n",
       "      <td>Normal</td>\n",
       "      <td>Beyaz</td>\n",
       "    </tr>\n",
       "  </tbody>\n",
       "</table>\n",
       "</div>"
      ],
      "text/plain": [
       "   BataryaGucu Bluetooth  MikroislemciHizi CiftHat  OnKameraMP   4G  \\\n",
       "0         1325       Yok               1.9     Yok         2.0  Yok   \n",
       "1         1046       Var               2.8     Var         0.0  Var   \n",
       "2          843       Yok               1.3     Var         1.0  Yok   \n",
       "3          894       Yok               0.5     Var         1.0  Var   \n",
       "4          936       Yok               1.0     Yok         1.0  Yok   \n",
       "\n",
       "   DahiliBellek  Kalinlik  Agirlik  CekirdekSayisi  ArkaKameraMP  \\\n",
       "0            50       0.1      146               1            10   \n",
       "1            58       0.2      100               8             0   \n",
       "2            16       0.9      119               7             4   \n",
       "3            50       0.5      199               3            14   \n",
       "4            18       0.2      153               3            18   \n",
       "\n",
       "   CozunurlukYükseklik  CozunurlukGenislik     RAM  BataryaOmru   3G  \\\n",
       "0                  499                 695  2328.0            2  Var   \n",
       "1                  259                1040  3863.0            9  Var   \n",
       "2                  593                 732  1734.0           14  Yok   \n",
       "3                 1285                1462  3615.0            6  Var   \n",
       "4                 1330                1686  2391.0            3  Var   \n",
       "\n",
       "  Dokunmatik WiFi FiyatAraligi     Renk  \n",
       "0        Yok  Yok       Normal    Beyaz  \n",
       "1        Var  Var       Pahalı    Pembe  \n",
       "2        Yok  Var         Ucuz      Mor  \n",
       "3        Yok  Var       Pahalı  Turuncu  \n",
       "4        Var  Var       Normal    Beyaz  "
      ]
     },
     "execution_count": 3,
     "metadata": {},
     "output_type": "execute_result"
    }
   ],
   "source": [
    "df.head()"
   ]
  },
  {
   "cell_type": "code",
   "execution_count": 4,
   "id": "1f5a8c1e",
   "metadata": {
    "execution": {
     "iopub.execute_input": "2021-12-27T13:24:40.035737Z",
     "iopub.status.busy": "2021-12-27T13:24:40.035072Z",
     "iopub.status.idle": "2021-12-27T13:24:40.055705Z",
     "shell.execute_reply": "2021-12-27T13:24:40.056360Z",
     "shell.execute_reply.started": "2021-12-27T10:38:38.398331Z"
    },
    "papermill": {
     "duration": 0.069061,
     "end_time": "2021-12-27T13:24:40.056553",
     "exception": false,
     "start_time": "2021-12-27T13:24:39.987492",
     "status": "completed"
    },
    "tags": []
   },
   "outputs": [
    {
     "data": {
      "text/html": [
       "<div>\n",
       "<style scoped>\n",
       "    .dataframe tbody tr th:only-of-type {\n",
       "        vertical-align: middle;\n",
       "    }\n",
       "\n",
       "    .dataframe tbody tr th {\n",
       "        vertical-align: top;\n",
       "    }\n",
       "\n",
       "    .dataframe thead th {\n",
       "        text-align: right;\n",
       "    }\n",
       "</style>\n",
       "<table border=\"1\" class=\"dataframe\">\n",
       "  <thead>\n",
       "    <tr style=\"text-align: right;\">\n",
       "      <th></th>\n",
       "      <th>BataryaGucu</th>\n",
       "      <th>Bluetooth</th>\n",
       "      <th>MikroislemciHizi</th>\n",
       "      <th>CiftHat</th>\n",
       "      <th>OnKameraMP</th>\n",
       "      <th>4G</th>\n",
       "      <th>DahiliBellek</th>\n",
       "      <th>Kalinlik</th>\n",
       "      <th>Agirlik</th>\n",
       "      <th>CekirdekSayisi</th>\n",
       "      <th>ArkaKameraMP</th>\n",
       "      <th>CozunurlukYükseklik</th>\n",
       "      <th>CozunurlukGenislik</th>\n",
       "      <th>RAM</th>\n",
       "      <th>BataryaOmru</th>\n",
       "      <th>3G</th>\n",
       "      <th>Dokunmatik</th>\n",
       "      <th>WiFi</th>\n",
       "      <th>FiyatAraligi</th>\n",
       "      <th>Renk</th>\n",
       "    </tr>\n",
       "  </thead>\n",
       "  <tbody>\n",
       "    <tr>\n",
       "      <th>1995</th>\n",
       "      <td>689</td>\n",
       "      <td>Yok</td>\n",
       "      <td>2.9</td>\n",
       "      <td>Var</td>\n",
       "      <td>3.0</td>\n",
       "      <td>Var</td>\n",
       "      <td>7</td>\n",
       "      <td>0.8</td>\n",
       "      <td>147</td>\n",
       "      <td>2</td>\n",
       "      <td>6</td>\n",
       "      <td>487</td>\n",
       "      <td>722</td>\n",
       "      <td>1241.0</td>\n",
       "      <td>16</td>\n",
       "      <td>Var</td>\n",
       "      <td>Yok</td>\n",
       "      <td>Yok</td>\n",
       "      <td>Çok Ucuz</td>\n",
       "      <td>Siyah</td>\n",
       "    </tr>\n",
       "    <tr>\n",
       "      <th>1996</th>\n",
       "      <td>1654</td>\n",
       "      <td>Yok</td>\n",
       "      <td>1.8</td>\n",
       "      <td>Yok</td>\n",
       "      <td>1.0</td>\n",
       "      <td>Yok</td>\n",
       "      <td>11</td>\n",
       "      <td>0.3</td>\n",
       "      <td>146</td>\n",
       "      <td>7</td>\n",
       "      <td>2</td>\n",
       "      <td>1184</td>\n",
       "      <td>1719</td>\n",
       "      <td>1070.0</td>\n",
       "      <td>14</td>\n",
       "      <td>Var</td>\n",
       "      <td>Var</td>\n",
       "      <td>Var</td>\n",
       "      <td>Ucuz</td>\n",
       "      <td>Sarı</td>\n",
       "    </tr>\n",
       "    <tr>\n",
       "      <th>1997</th>\n",
       "      <td>742</td>\n",
       "      <td>Yok</td>\n",
       "      <td>2.2</td>\n",
       "      <td>Var</td>\n",
       "      <td>4.0</td>\n",
       "      <td>Yok</td>\n",
       "      <td>56</td>\n",
       "      <td>0.2</td>\n",
       "      <td>190</td>\n",
       "      <td>7</td>\n",
       "      <td>14</td>\n",
       "      <td>577</td>\n",
       "      <td>1359</td>\n",
       "      <td>3557.0</td>\n",
       "      <td>12</td>\n",
       "      <td>Yok</td>\n",
       "      <td>Var</td>\n",
       "      <td>Var</td>\n",
       "      <td>Pahalı</td>\n",
       "      <td>Turuncu</td>\n",
       "    </tr>\n",
       "    <tr>\n",
       "      <th>1998</th>\n",
       "      <td>704</td>\n",
       "      <td>Yok</td>\n",
       "      <td>2.2</td>\n",
       "      <td>Var</td>\n",
       "      <td>4.0</td>\n",
       "      <td>Yok</td>\n",
       "      <td>53</td>\n",
       "      <td>0.2</td>\n",
       "      <td>186</td>\n",
       "      <td>6</td>\n",
       "      <td>6</td>\n",
       "      <td>251</td>\n",
       "      <td>1013</td>\n",
       "      <td>3653.0</td>\n",
       "      <td>15</td>\n",
       "      <td>Var</td>\n",
       "      <td>Var</td>\n",
       "      <td>Var</td>\n",
       "      <td>Normal</td>\n",
       "      <td>Turkuaz</td>\n",
       "    </tr>\n",
       "    <tr>\n",
       "      <th>1999</th>\n",
       "      <td>1872</td>\n",
       "      <td>Yok</td>\n",
       "      <td>0.5</td>\n",
       "      <td>Yok</td>\n",
       "      <td>5.0</td>\n",
       "      <td>Var</td>\n",
       "      <td>26</td>\n",
       "      <td>0.5</td>\n",
       "      <td>172</td>\n",
       "      <td>4</td>\n",
       "      <td>10</td>\n",
       "      <td>672</td>\n",
       "      <td>1088</td>\n",
       "      <td>2273.0</td>\n",
       "      <td>8</td>\n",
       "      <td>Var</td>\n",
       "      <td>Yok</td>\n",
       "      <td>Var</td>\n",
       "      <td>Normal</td>\n",
       "      <td>Siyah</td>\n",
       "    </tr>\n",
       "  </tbody>\n",
       "</table>\n",
       "</div>"
      ],
      "text/plain": [
       "      BataryaGucu Bluetooth  MikroislemciHizi CiftHat  OnKameraMP   4G  \\\n",
       "1995          689       Yok               2.9     Var         3.0  Var   \n",
       "1996         1654       Yok               1.8     Yok         1.0  Yok   \n",
       "1997          742       Yok               2.2     Var         4.0  Yok   \n",
       "1998          704       Yok               2.2     Var         4.0  Yok   \n",
       "1999         1872       Yok               0.5     Yok         5.0  Var   \n",
       "\n",
       "      DahiliBellek  Kalinlik  Agirlik  CekirdekSayisi  ArkaKameraMP  \\\n",
       "1995             7       0.8      147               2             6   \n",
       "1996            11       0.3      146               7             2   \n",
       "1997            56       0.2      190               7            14   \n",
       "1998            53       0.2      186               6             6   \n",
       "1999            26       0.5      172               4            10   \n",
       "\n",
       "      CozunurlukYükseklik  CozunurlukGenislik     RAM  BataryaOmru   3G  \\\n",
       "1995                  487                 722  1241.0           16  Var   \n",
       "1996                 1184                1719  1070.0           14  Var   \n",
       "1997                  577                1359  3557.0           12  Yok   \n",
       "1998                  251                1013  3653.0           15  Var   \n",
       "1999                  672                1088  2273.0            8  Var   \n",
       "\n",
       "     Dokunmatik WiFi FiyatAraligi     Renk  \n",
       "1995        Yok  Yok     Çok Ucuz    Siyah  \n",
       "1996        Var  Var         Ucuz     Sarı  \n",
       "1997        Var  Var       Pahalı  Turuncu  \n",
       "1998        Var  Var       Normal  Turkuaz  \n",
       "1999        Yok  Var       Normal    Siyah  "
      ]
     },
     "execution_count": 4,
     "metadata": {},
     "output_type": "execute_result"
    }
   ],
   "source": [
    "df.tail()"
   ]
  },
  {
   "cell_type": "code",
   "execution_count": 5,
   "id": "e5dc42ed",
   "metadata": {
    "execution": {
     "iopub.execute_input": "2021-12-27T13:24:40.147175Z",
     "iopub.status.busy": "2021-12-27T13:24:40.145065Z",
     "iopub.status.idle": "2021-12-27T13:24:40.150122Z",
     "shell.execute_reply": "2021-12-27T13:24:40.150640Z",
     "shell.execute_reply.started": "2021-12-27T10:39:59.114548Z"
    },
    "papermill": {
     "duration": 0.051547,
     "end_time": "2021-12-27T13:24:40.150815",
     "exception": false,
     "start_time": "2021-12-27T13:24:40.099268",
     "status": "completed"
    },
    "tags": []
   },
   "outputs": [
    {
     "data": {
      "text/plain": [
       "(2000, 20)"
      ]
     },
     "execution_count": 5,
     "metadata": {},
     "output_type": "execute_result"
    }
   ],
   "source": [
    "df.shape"
   ]
  },
  {
   "cell_type": "code",
   "execution_count": 6,
   "id": "1d961733",
   "metadata": {
    "execution": {
     "iopub.execute_input": "2021-12-27T13:24:40.244363Z",
     "iopub.status.busy": "2021-12-27T13:24:40.238811Z",
     "iopub.status.idle": "2021-12-27T13:24:40.268474Z",
     "shell.execute_reply": "2021-12-27T13:24:40.269051Z",
     "shell.execute_reply.started": "2021-12-27T10:41:34.432099Z"
    },
    "papermill": {
     "duration": 0.075456,
     "end_time": "2021-12-27T13:24:40.269232",
     "exception": false,
     "start_time": "2021-12-27T13:24:40.193776",
     "status": "completed"
    },
    "tags": []
   },
   "outputs": [
    {
     "name": "stdout",
     "output_type": "stream",
     "text": [
      "<class 'pandas.core.frame.DataFrame'>\n",
      "RangeIndex: 2000 entries, 0 to 1999\n",
      "Data columns (total 20 columns):\n",
      " #   Column               Non-Null Count  Dtype  \n",
      "---  ------               --------------  -----  \n",
      " 0   BataryaGucu          2000 non-null   int64  \n",
      " 1   Bluetooth            2000 non-null   object \n",
      " 2   MikroislemciHizi     2000 non-null   float64\n",
      " 3   CiftHat              2000 non-null   object \n",
      " 4   OnKameraMP           1995 non-null   float64\n",
      " 5   4G                   2000 non-null   object \n",
      " 6   DahiliBellek         2000 non-null   int64  \n",
      " 7   Kalinlik             2000 non-null   float64\n",
      " 8   Agirlik              2000 non-null   int64  \n",
      " 9   CekirdekSayisi       2000 non-null   int64  \n",
      " 10  ArkaKameraMP         2000 non-null   int64  \n",
      " 11  CozunurlukYükseklik  2000 non-null   int64  \n",
      " 12  CozunurlukGenislik   2000 non-null   int64  \n",
      " 13  RAM                  1988 non-null   float64\n",
      " 14  BataryaOmru          2000 non-null   int64  \n",
      " 15  3G                   2000 non-null   object \n",
      " 16  Dokunmatik           2000 non-null   object \n",
      " 17  WiFi                 2000 non-null   object \n",
      " 18  FiyatAraligi         2000 non-null   object \n",
      " 19  Renk                 2000 non-null   object \n",
      "dtypes: float64(4), int64(8), object(8)\n",
      "memory usage: 312.6+ KB\n"
     ]
    }
   ],
   "source": [
    "df.info()"
   ]
  },
  {
   "cell_type": "code",
   "execution_count": 7,
   "id": "166d38a2",
   "metadata": {
    "execution": {
     "iopub.execute_input": "2021-12-27T13:24:40.360972Z",
     "iopub.status.busy": "2021-12-27T13:24:40.360302Z",
     "iopub.status.idle": "2021-12-27T13:24:40.412549Z",
     "shell.execute_reply": "2021-12-27T13:24:40.411845Z",
     "shell.execute_reply.started": "2021-12-27T10:42:26.472486Z"
    },
    "papermill": {
     "duration": 0.100492,
     "end_time": "2021-12-27T13:24:40.412693",
     "exception": false,
     "start_time": "2021-12-27T13:24:40.312201",
     "status": "completed"
    },
    "tags": []
   },
   "outputs": [
    {
     "data": {
      "text/html": [
       "<div>\n",
       "<style scoped>\n",
       "    .dataframe tbody tr th:only-of-type {\n",
       "        vertical-align: middle;\n",
       "    }\n",
       "\n",
       "    .dataframe tbody tr th {\n",
       "        vertical-align: top;\n",
       "    }\n",
       "\n",
       "    .dataframe thead th {\n",
       "        text-align: right;\n",
       "    }\n",
       "</style>\n",
       "<table border=\"1\" class=\"dataframe\">\n",
       "  <thead>\n",
       "    <tr style=\"text-align: right;\">\n",
       "      <th></th>\n",
       "      <th>count</th>\n",
       "      <th>mean</th>\n",
       "      <th>std</th>\n",
       "      <th>min</th>\n",
       "      <th>25%</th>\n",
       "      <th>50%</th>\n",
       "      <th>75%</th>\n",
       "      <th>max</th>\n",
       "    </tr>\n",
       "  </thead>\n",
       "  <tbody>\n",
       "    <tr>\n",
       "      <th>BataryaGucu</th>\n",
       "      <td>2000.0</td>\n",
       "      <td>1238.518500</td>\n",
       "      <td>439.418206</td>\n",
       "      <td>501.0</td>\n",
       "      <td>851.75</td>\n",
       "      <td>1226.0</td>\n",
       "      <td>1615.25</td>\n",
       "      <td>1998.0</td>\n",
       "    </tr>\n",
       "    <tr>\n",
       "      <th>MikroislemciHizi</th>\n",
       "      <td>2000.0</td>\n",
       "      <td>1.522250</td>\n",
       "      <td>0.816004</td>\n",
       "      <td>0.5</td>\n",
       "      <td>0.70</td>\n",
       "      <td>1.5</td>\n",
       "      <td>2.20</td>\n",
       "      <td>3.0</td>\n",
       "    </tr>\n",
       "    <tr>\n",
       "      <th>OnKameraMP</th>\n",
       "      <td>1995.0</td>\n",
       "      <td>4.312281</td>\n",
       "      <td>4.342095</td>\n",
       "      <td>0.0</td>\n",
       "      <td>1.00</td>\n",
       "      <td>3.0</td>\n",
       "      <td>7.00</td>\n",
       "      <td>19.0</td>\n",
       "    </tr>\n",
       "    <tr>\n",
       "      <th>DahiliBellek</th>\n",
       "      <td>2000.0</td>\n",
       "      <td>32.046500</td>\n",
       "      <td>18.145715</td>\n",
       "      <td>2.0</td>\n",
       "      <td>16.00</td>\n",
       "      <td>32.0</td>\n",
       "      <td>48.00</td>\n",
       "      <td>64.0</td>\n",
       "    </tr>\n",
       "    <tr>\n",
       "      <th>Kalinlik</th>\n",
       "      <td>2000.0</td>\n",
       "      <td>0.501750</td>\n",
       "      <td>0.288416</td>\n",
       "      <td>0.1</td>\n",
       "      <td>0.20</td>\n",
       "      <td>0.5</td>\n",
       "      <td>0.80</td>\n",
       "      <td>1.0</td>\n",
       "    </tr>\n",
       "    <tr>\n",
       "      <th>Agirlik</th>\n",
       "      <td>2000.0</td>\n",
       "      <td>140.249000</td>\n",
       "      <td>35.399655</td>\n",
       "      <td>80.0</td>\n",
       "      <td>109.00</td>\n",
       "      <td>141.0</td>\n",
       "      <td>170.00</td>\n",
       "      <td>200.0</td>\n",
       "    </tr>\n",
       "    <tr>\n",
       "      <th>CekirdekSayisi</th>\n",
       "      <td>2000.0</td>\n",
       "      <td>4.520500</td>\n",
       "      <td>2.287837</td>\n",
       "      <td>1.0</td>\n",
       "      <td>3.00</td>\n",
       "      <td>4.0</td>\n",
       "      <td>7.00</td>\n",
       "      <td>8.0</td>\n",
       "    </tr>\n",
       "    <tr>\n",
       "      <th>ArkaKameraMP</th>\n",
       "      <td>2000.0</td>\n",
       "      <td>9.916500</td>\n",
       "      <td>6.064315</td>\n",
       "      <td>0.0</td>\n",
       "      <td>5.00</td>\n",
       "      <td>10.0</td>\n",
       "      <td>15.00</td>\n",
       "      <td>20.0</td>\n",
       "    </tr>\n",
       "    <tr>\n",
       "      <th>CozunurlukYükseklik</th>\n",
       "      <td>2000.0</td>\n",
       "      <td>645.108000</td>\n",
       "      <td>443.780811</td>\n",
       "      <td>0.0</td>\n",
       "      <td>282.75</td>\n",
       "      <td>564.0</td>\n",
       "      <td>947.25</td>\n",
       "      <td>1960.0</td>\n",
       "    </tr>\n",
       "    <tr>\n",
       "      <th>CozunurlukGenislik</th>\n",
       "      <td>2000.0</td>\n",
       "      <td>1251.515500</td>\n",
       "      <td>432.199447</td>\n",
       "      <td>500.0</td>\n",
       "      <td>874.75</td>\n",
       "      <td>1247.0</td>\n",
       "      <td>1633.00</td>\n",
       "      <td>1998.0</td>\n",
       "    </tr>\n",
       "    <tr>\n",
       "      <th>RAM</th>\n",
       "      <td>1988.0</td>\n",
       "      <td>2116.243964</td>\n",
       "      <td>1082.513059</td>\n",
       "      <td>256.0</td>\n",
       "      <td>1204.75</td>\n",
       "      <td>2129.5</td>\n",
       "      <td>3049.50</td>\n",
       "      <td>3998.0</td>\n",
       "    </tr>\n",
       "    <tr>\n",
       "      <th>BataryaOmru</th>\n",
       "      <td>2000.0</td>\n",
       "      <td>11.011000</td>\n",
       "      <td>5.463955</td>\n",
       "      <td>2.0</td>\n",
       "      <td>6.00</td>\n",
       "      <td>11.0</td>\n",
       "      <td>16.00</td>\n",
       "      <td>20.0</td>\n",
       "    </tr>\n",
       "  </tbody>\n",
       "</table>\n",
       "</div>"
      ],
      "text/plain": [
       "                      count         mean          std    min      25%     50%  \\\n",
       "BataryaGucu          2000.0  1238.518500   439.418206  501.0   851.75  1226.0   \n",
       "MikroislemciHizi     2000.0     1.522250     0.816004    0.5     0.70     1.5   \n",
       "OnKameraMP           1995.0     4.312281     4.342095    0.0     1.00     3.0   \n",
       "DahiliBellek         2000.0    32.046500    18.145715    2.0    16.00    32.0   \n",
       "Kalinlik             2000.0     0.501750     0.288416    0.1     0.20     0.5   \n",
       "Agirlik              2000.0   140.249000    35.399655   80.0   109.00   141.0   \n",
       "CekirdekSayisi       2000.0     4.520500     2.287837    1.0     3.00     4.0   \n",
       "ArkaKameraMP         2000.0     9.916500     6.064315    0.0     5.00    10.0   \n",
       "CozunurlukYükseklik  2000.0   645.108000   443.780811    0.0   282.75   564.0   \n",
       "CozunurlukGenislik   2000.0  1251.515500   432.199447  500.0   874.75  1247.0   \n",
       "RAM                  1988.0  2116.243964  1082.513059  256.0  1204.75  2129.5   \n",
       "BataryaOmru          2000.0    11.011000     5.463955    2.0     6.00    11.0   \n",
       "\n",
       "                         75%     max  \n",
       "BataryaGucu          1615.25  1998.0  \n",
       "MikroislemciHizi        2.20     3.0  \n",
       "OnKameraMP              7.00    19.0  \n",
       "DahiliBellek           48.00    64.0  \n",
       "Kalinlik                0.80     1.0  \n",
       "Agirlik               170.00   200.0  \n",
       "CekirdekSayisi          7.00     8.0  \n",
       "ArkaKameraMP           15.00    20.0  \n",
       "CozunurlukYükseklik   947.25  1960.0  \n",
       "CozunurlukGenislik   1633.00  1998.0  \n",
       "RAM                  3049.50  3998.0  \n",
       "BataryaOmru            16.00    20.0  "
      ]
     },
     "execution_count": 7,
     "metadata": {},
     "output_type": "execute_result"
    }
   ],
   "source": [
    "df.describe().T"
   ]
  },
  {
   "cell_type": "code",
   "execution_count": 8,
   "id": "3a364fa9",
   "metadata": {
    "execution": {
     "iopub.execute_input": "2021-12-27T13:24:40.511397Z",
     "iopub.status.busy": "2021-12-27T13:24:40.510666Z",
     "iopub.status.idle": "2021-12-27T13:24:40.514593Z",
     "shell.execute_reply": "2021-12-27T13:24:40.514029Z",
     "shell.execute_reply.started": "2021-12-27T10:43:23.841422Z"
    },
    "papermill": {
     "duration": 0.058474,
     "end_time": "2021-12-27T13:24:40.514741",
     "exception": false,
     "start_time": "2021-12-27T13:24:40.456267",
     "status": "completed"
    },
    "tags": []
   },
   "outputs": [
    {
     "data": {
      "text/plain": [
       "BataryaGucu             0\n",
       "Bluetooth               0\n",
       "MikroislemciHizi        0\n",
       "CiftHat                 0\n",
       "OnKameraMP              5\n",
       "4G                      0\n",
       "DahiliBellek            0\n",
       "Kalinlik                0\n",
       "Agirlik                 0\n",
       "CekirdekSayisi          0\n",
       "ArkaKameraMP            0\n",
       "CozunurlukYükseklik     0\n",
       "CozunurlukGenislik      0\n",
       "RAM                    12\n",
       "BataryaOmru             0\n",
       "3G                      0\n",
       "Dokunmatik              0\n",
       "WiFi                    0\n",
       "FiyatAraligi            0\n",
       "Renk                    0\n",
       "dtype: int64"
      ]
     },
     "execution_count": 8,
     "metadata": {},
     "output_type": "execute_result"
    }
   ],
   "source": [
    "df.isna().sum()"
   ]
  },
  {
   "cell_type": "code",
   "execution_count": 9,
   "id": "78bbcd1b",
   "metadata": {
    "execution": {
     "iopub.execute_input": "2021-12-27T13:24:40.606174Z",
     "iopub.status.busy": "2021-12-27T13:24:40.605514Z",
     "iopub.status.idle": "2021-12-27T13:24:40.631615Z",
     "shell.execute_reply": "2021-12-27T13:24:40.631082Z",
     "shell.execute_reply.started": "2021-12-27T10:43:54.144863Z"
    },
    "papermill": {
     "duration": 0.072751,
     "end_time": "2021-12-27T13:24:40.631752",
     "exception": false,
     "start_time": "2021-12-27T13:24:40.559001",
     "status": "completed"
    },
    "tags": []
   },
   "outputs": [
    {
     "data": {
      "text/html": [
       "<div>\n",
       "<style scoped>\n",
       "    .dataframe tbody tr th:only-of-type {\n",
       "        vertical-align: middle;\n",
       "    }\n",
       "\n",
       "    .dataframe tbody tr th {\n",
       "        vertical-align: top;\n",
       "    }\n",
       "\n",
       "    .dataframe thead th {\n",
       "        text-align: right;\n",
       "    }\n",
       "</style>\n",
       "<table border=\"1\" class=\"dataframe\">\n",
       "  <thead>\n",
       "    <tr style=\"text-align: right;\">\n",
       "      <th></th>\n",
       "      <th>BataryaGucu</th>\n",
       "      <th>MikroislemciHizi</th>\n",
       "      <th>OnKameraMP</th>\n",
       "      <th>DahiliBellek</th>\n",
       "      <th>Kalinlik</th>\n",
       "      <th>Agirlik</th>\n",
       "      <th>CekirdekSayisi</th>\n",
       "      <th>ArkaKameraMP</th>\n",
       "      <th>CozunurlukYükseklik</th>\n",
       "      <th>CozunurlukGenislik</th>\n",
       "      <th>RAM</th>\n",
       "      <th>BataryaOmru</th>\n",
       "    </tr>\n",
       "  </thead>\n",
       "  <tbody>\n",
       "    <tr>\n",
       "      <th>BataryaGucu</th>\n",
       "      <td>1.000000</td>\n",
       "      <td>0.011482</td>\n",
       "      <td>0.032167</td>\n",
       "      <td>-0.004004</td>\n",
       "      <td>0.034085</td>\n",
       "      <td>0.001844</td>\n",
       "      <td>-0.029727</td>\n",
       "      <td>0.031441</td>\n",
       "      <td>0.014901</td>\n",
       "      <td>-0.008402</td>\n",
       "      <td>-0.000883</td>\n",
       "      <td>0.052510</td>\n",
       "    </tr>\n",
       "    <tr>\n",
       "      <th>MikroislemciHizi</th>\n",
       "      <td>0.011482</td>\n",
       "      <td>1.000000</td>\n",
       "      <td>-0.000172</td>\n",
       "      <td>0.006545</td>\n",
       "      <td>-0.014364</td>\n",
       "      <td>0.012350</td>\n",
       "      <td>-0.005724</td>\n",
       "      <td>-0.005245</td>\n",
       "      <td>-0.014523</td>\n",
       "      <td>-0.009476</td>\n",
       "      <td>0.003969</td>\n",
       "      <td>-0.011432</td>\n",
       "    </tr>\n",
       "    <tr>\n",
       "      <th>OnKameraMP</th>\n",
       "      <td>0.032167</td>\n",
       "      <td>-0.000172</td>\n",
       "      <td>1.000000</td>\n",
       "      <td>-0.028642</td>\n",
       "      <td>-0.001723</td>\n",
       "      <td>0.024585</td>\n",
       "      <td>-0.013721</td>\n",
       "      <td>0.645697</td>\n",
       "      <td>-0.010662</td>\n",
       "      <td>-0.005646</td>\n",
       "      <td>0.012528</td>\n",
       "      <td>-0.007121</td>\n",
       "    </tr>\n",
       "    <tr>\n",
       "      <th>DahiliBellek</th>\n",
       "      <td>-0.004004</td>\n",
       "      <td>0.006545</td>\n",
       "      <td>-0.028642</td>\n",
       "      <td>1.000000</td>\n",
       "      <td>0.006886</td>\n",
       "      <td>-0.034214</td>\n",
       "      <td>-0.028310</td>\n",
       "      <td>-0.033273</td>\n",
       "      <td>0.010441</td>\n",
       "      <td>-0.008335</td>\n",
       "      <td>0.032883</td>\n",
       "      <td>-0.002790</td>\n",
       "    </tr>\n",
       "    <tr>\n",
       "      <th>Kalinlik</th>\n",
       "      <td>0.034085</td>\n",
       "      <td>-0.014364</td>\n",
       "      <td>-0.001723</td>\n",
       "      <td>0.006886</td>\n",
       "      <td>1.000000</td>\n",
       "      <td>0.021756</td>\n",
       "      <td>-0.003504</td>\n",
       "      <td>0.026282</td>\n",
       "      <td>0.025263</td>\n",
       "      <td>0.023566</td>\n",
       "      <td>-0.007293</td>\n",
       "      <td>0.017003</td>\n",
       "    </tr>\n",
       "    <tr>\n",
       "      <th>Agirlik</th>\n",
       "      <td>0.001844</td>\n",
       "      <td>0.012350</td>\n",
       "      <td>0.024585</td>\n",
       "      <td>-0.034214</td>\n",
       "      <td>0.021756</td>\n",
       "      <td>1.000000</td>\n",
       "      <td>-0.018989</td>\n",
       "      <td>0.018844</td>\n",
       "      <td>0.000939</td>\n",
       "      <td>0.000090</td>\n",
       "      <td>-0.002536</td>\n",
       "      <td>0.006209</td>\n",
       "    </tr>\n",
       "    <tr>\n",
       "      <th>CekirdekSayisi</th>\n",
       "      <td>-0.029727</td>\n",
       "      <td>-0.005724</td>\n",
       "      <td>-0.013721</td>\n",
       "      <td>-0.028310</td>\n",
       "      <td>-0.003504</td>\n",
       "      <td>-0.018989</td>\n",
       "      <td>1.000000</td>\n",
       "      <td>-0.001193</td>\n",
       "      <td>-0.006872</td>\n",
       "      <td>0.024480</td>\n",
       "      <td>0.005576</td>\n",
       "      <td>0.013148</td>\n",
       "    </tr>\n",
       "    <tr>\n",
       "      <th>ArkaKameraMP</th>\n",
       "      <td>0.031441</td>\n",
       "      <td>-0.005245</td>\n",
       "      <td>0.645697</td>\n",
       "      <td>-0.033273</td>\n",
       "      <td>0.026282</td>\n",
       "      <td>0.018844</td>\n",
       "      <td>-0.001193</td>\n",
       "      <td>1.000000</td>\n",
       "      <td>-0.018465</td>\n",
       "      <td>0.004196</td>\n",
       "      <td>0.029540</td>\n",
       "      <td>0.014657</td>\n",
       "    </tr>\n",
       "    <tr>\n",
       "      <th>CozunurlukYükseklik</th>\n",
       "      <td>0.014901</td>\n",
       "      <td>-0.014523</td>\n",
       "      <td>-0.010662</td>\n",
       "      <td>0.010441</td>\n",
       "      <td>0.025263</td>\n",
       "      <td>0.000939</td>\n",
       "      <td>-0.006872</td>\n",
       "      <td>-0.018465</td>\n",
       "      <td>1.000000</td>\n",
       "      <td>0.510664</td>\n",
       "      <td>-0.023421</td>\n",
       "      <td>-0.010645</td>\n",
       "    </tr>\n",
       "    <tr>\n",
       "      <th>CozunurlukGenislik</th>\n",
       "      <td>-0.008402</td>\n",
       "      <td>-0.009476</td>\n",
       "      <td>-0.005646</td>\n",
       "      <td>-0.008335</td>\n",
       "      <td>0.023566</td>\n",
       "      <td>0.000090</td>\n",
       "      <td>0.024480</td>\n",
       "      <td>0.004196</td>\n",
       "      <td>0.510664</td>\n",
       "      <td>1.000000</td>\n",
       "      <td>0.002101</td>\n",
       "      <td>0.006720</td>\n",
       "    </tr>\n",
       "    <tr>\n",
       "      <th>RAM</th>\n",
       "      <td>-0.000883</td>\n",
       "      <td>0.003969</td>\n",
       "      <td>0.012528</td>\n",
       "      <td>0.032883</td>\n",
       "      <td>-0.007293</td>\n",
       "      <td>-0.002536</td>\n",
       "      <td>0.005576</td>\n",
       "      <td>0.029540</td>\n",
       "      <td>-0.023421</td>\n",
       "      <td>0.002101</td>\n",
       "      <td>1.000000</td>\n",
       "      <td>0.010444</td>\n",
       "    </tr>\n",
       "    <tr>\n",
       "      <th>BataryaOmru</th>\n",
       "      <td>0.052510</td>\n",
       "      <td>-0.011432</td>\n",
       "      <td>-0.007121</td>\n",
       "      <td>-0.002790</td>\n",
       "      <td>0.017003</td>\n",
       "      <td>0.006209</td>\n",
       "      <td>0.013148</td>\n",
       "      <td>0.014657</td>\n",
       "      <td>-0.010645</td>\n",
       "      <td>0.006720</td>\n",
       "      <td>0.010444</td>\n",
       "      <td>1.000000</td>\n",
       "    </tr>\n",
       "  </tbody>\n",
       "</table>\n",
       "</div>"
      ],
      "text/plain": [
       "                     BataryaGucu  MikroislemciHizi  OnKameraMP  DahiliBellek  \\\n",
       "BataryaGucu             1.000000          0.011482    0.032167     -0.004004   \n",
       "MikroislemciHizi        0.011482          1.000000   -0.000172      0.006545   \n",
       "OnKameraMP              0.032167         -0.000172    1.000000     -0.028642   \n",
       "DahiliBellek           -0.004004          0.006545   -0.028642      1.000000   \n",
       "Kalinlik                0.034085         -0.014364   -0.001723      0.006886   \n",
       "Agirlik                 0.001844          0.012350    0.024585     -0.034214   \n",
       "CekirdekSayisi         -0.029727         -0.005724   -0.013721     -0.028310   \n",
       "ArkaKameraMP            0.031441         -0.005245    0.645697     -0.033273   \n",
       "CozunurlukYükseklik     0.014901         -0.014523   -0.010662      0.010441   \n",
       "CozunurlukGenislik     -0.008402         -0.009476   -0.005646     -0.008335   \n",
       "RAM                    -0.000883          0.003969    0.012528      0.032883   \n",
       "BataryaOmru             0.052510         -0.011432   -0.007121     -0.002790   \n",
       "\n",
       "                     Kalinlik   Agirlik  CekirdekSayisi  ArkaKameraMP  \\\n",
       "BataryaGucu          0.034085  0.001844       -0.029727      0.031441   \n",
       "MikroislemciHizi    -0.014364  0.012350       -0.005724     -0.005245   \n",
       "OnKameraMP          -0.001723  0.024585       -0.013721      0.645697   \n",
       "DahiliBellek         0.006886 -0.034214       -0.028310     -0.033273   \n",
       "Kalinlik             1.000000  0.021756       -0.003504      0.026282   \n",
       "Agirlik              0.021756  1.000000       -0.018989      0.018844   \n",
       "CekirdekSayisi      -0.003504 -0.018989        1.000000     -0.001193   \n",
       "ArkaKameraMP         0.026282  0.018844       -0.001193      1.000000   \n",
       "CozunurlukYükseklik  0.025263  0.000939       -0.006872     -0.018465   \n",
       "CozunurlukGenislik   0.023566  0.000090        0.024480      0.004196   \n",
       "RAM                 -0.007293 -0.002536        0.005576      0.029540   \n",
       "BataryaOmru          0.017003  0.006209        0.013148      0.014657   \n",
       "\n",
       "                     CozunurlukYükseklik  CozunurlukGenislik       RAM  \\\n",
       "BataryaGucu                     0.014901           -0.008402 -0.000883   \n",
       "MikroislemciHizi               -0.014523           -0.009476  0.003969   \n",
       "OnKameraMP                     -0.010662           -0.005646  0.012528   \n",
       "DahiliBellek                    0.010441           -0.008335  0.032883   \n",
       "Kalinlik                        0.025263            0.023566 -0.007293   \n",
       "Agirlik                         0.000939            0.000090 -0.002536   \n",
       "CekirdekSayisi                 -0.006872            0.024480  0.005576   \n",
       "ArkaKameraMP                   -0.018465            0.004196  0.029540   \n",
       "CozunurlukYükseklik             1.000000            0.510664 -0.023421   \n",
       "CozunurlukGenislik              0.510664            1.000000  0.002101   \n",
       "RAM                            -0.023421            0.002101  1.000000   \n",
       "BataryaOmru                    -0.010645            0.006720  0.010444   \n",
       "\n",
       "                     BataryaOmru  \n",
       "BataryaGucu             0.052510  \n",
       "MikroislemciHizi       -0.011432  \n",
       "OnKameraMP             -0.007121  \n",
       "DahiliBellek           -0.002790  \n",
       "Kalinlik                0.017003  \n",
       "Agirlik                 0.006209  \n",
       "CekirdekSayisi          0.013148  \n",
       "ArkaKameraMP            0.014657  \n",
       "CozunurlukYükseklik    -0.010645  \n",
       "CozunurlukGenislik      0.006720  \n",
       "RAM                     0.010444  \n",
       "BataryaOmru             1.000000  "
      ]
     },
     "execution_count": 9,
     "metadata": {},
     "output_type": "execute_result"
    }
   ],
   "source": [
    "df.corr()"
   ]
  },
  {
   "cell_type": "code",
   "execution_count": 10,
   "id": "f713d1bc",
   "metadata": {
    "execution": {
     "iopub.execute_input": "2021-12-27T13:24:40.726785Z",
     "iopub.status.busy": "2021-12-27T13:24:40.726145Z",
     "iopub.status.idle": "2021-12-27T13:24:41.913918Z",
     "shell.execute_reply": "2021-12-27T13:24:41.914436Z",
     "shell.execute_reply.started": "2021-12-27T10:47:09.254269Z"
    },
    "papermill": {
     "duration": 1.238853,
     "end_time": "2021-12-27T13:24:41.914644",
     "exception": false,
     "start_time": "2021-12-27T13:24:40.675791",
     "status": "completed"
    },
    "tags": []
   },
   "outputs": [
    {
     "data": {
      "image/png": "[encoded data removed]",
      "text/plain": [
       "<Figure size 720x720 with 2 Axes>"
      ]
     },
     "metadata": {
      "needs_background": "light"
     },
     "output_type": "display_data"
    }
   ],
   "source": [
    "fig,ax=plt.subplots(figsize=(10,10))\n",
    "sns.heatmap(df.corr(), annot=True, linewidths=1, ax=ax, xticklabels=True, yticklabels=True);"
   ]
  },
  {
   "cell_type": "code",
   "execution_count": 11,
   "id": "43b5924c",
   "metadata": {
    "execution": {
     "iopub.execute_input": "2021-12-27T13:24:42.018343Z",
     "iopub.status.busy": "2021-12-27T13:24:42.017619Z",
     "iopub.status.idle": "2021-12-27T13:24:42.283013Z",
     "shell.execute_reply": "2021-12-27T13:24:42.282362Z",
     "shell.execute_reply.started": "2021-12-27T10:51:26.280309Z"
    },
    "papermill": {
     "duration": 0.319345,
     "end_time": "2021-12-27T13:24:42.283184",
     "exception": false,
     "start_time": "2021-12-27T13:24:41.963839",
     "status": "completed"
    },
    "tags": []
   },
   "outputs": [
    {
     "data": {
      "image/png": "[encoded data removed]",
      "text/plain": [
       "<Figure size 432x288 with 1 Axes>"
      ]
     },
     "metadata": {
      "needs_background": "light"
     },
     "output_type": "display_data"
    }
   ],
   "source": [
    "sns.scatterplot(x='ArkaKameraMP', y='OnKameraMP', data=df);"
   ]
  },
  {
   "cell_type": "code",
   "execution_count": 12,
   "id": "268270bf",
   "metadata": {
    "execution": {
     "iopub.execute_input": "2021-12-27T13:24:42.389846Z",
     "iopub.status.busy": "2021-12-27T13:24:42.389167Z",
     "iopub.status.idle": "2021-12-27T13:24:42.663314Z",
     "shell.execute_reply": "2021-12-27T13:24:42.663822Z",
     "shell.execute_reply.started": "2021-12-27T10:53:45.030332Z"
    },
    "papermill": {
     "duration": 0.329892,
     "end_time": "2021-12-27T13:24:42.664042",
     "exception": false,
     "start_time": "2021-12-27T13:24:42.334150",
     "status": "completed"
    },
    "tags": []
   },
   "outputs": [
    {
     "data": {
      "text/plain": [
       "<AxesSubplot:xlabel='CozunurlukGenislik', ylabel='CozunurlukYükseklik'>"
      ]
     },
     "execution_count": 12,
     "metadata": {},
     "output_type": "execute_result"
    },
    {
     "data": {
      "image/png": "[encoded data removed]",
      "text/plain": [
       "<Figure size 432x288 with 1 Axes>"
      ]
     },
     "metadata": {
      "needs_background": "light"
     },
     "output_type": "display_data"
    }
   ],
   "source": [
    "sns.scatterplot(x='CozunurlukGenislik', y='CozunurlukYükseklik', data=df)"
   ]
  },
  {
   "cell_type": "code",
   "execution_count": 13,
   "id": "195fa176",
   "metadata": {
    "execution": {
     "iopub.execute_input": "2021-12-27T13:24:42.772944Z",
     "iopub.status.busy": "2021-12-27T13:24:42.772258Z",
     "iopub.status.idle": "2021-12-27T13:24:44.409534Z",
     "shell.execute_reply": "2021-12-27T13:24:44.408907Z",
     "shell.execute_reply.started": "2021-12-27T10:55:29.458017Z"
    },
    "papermill": {
     "duration": 1.692657,
     "end_time": "2021-12-27T13:24:44.409696",
     "exception": false,
     "start_time": "2021-12-27T13:24:42.717039",
     "status": "completed"
    },
    "tags": []
   },
   "outputs": [
    {
     "data": {
      "image/png": "[encoded data removed]",
      "text/plain": [
       "<Figure size 936x720 with 12 Axes>"
      ]
     },
     "metadata": {
      "needs_background": "light"
     },
     "output_type": "display_data"
    }
   ],
   "source": [
    "df.hist(figsize=(13,10))\n",
    "plt.show()"
   ]
  },
  {
   "cell_type": "code",
   "execution_count": 14,
   "id": "1e498679",
   "metadata": {
    "execution": {
     "iopub.execute_input": "2021-12-27T13:24:44.523118Z",
     "iopub.status.busy": "2021-12-27T13:24:44.522390Z",
     "iopub.status.idle": "2021-12-27T13:24:44.844318Z",
     "shell.execute_reply": "2021-12-27T13:24:44.845020Z",
     "shell.execute_reply.started": "2021-12-27T10:58:17.722756Z"
    },
    "papermill": {
     "duration": 0.382578,
     "end_time": "2021-12-27T13:24:44.845224",
     "exception": false,
     "start_time": "2021-12-27T13:24:44.462646",
     "status": "completed"
    },
    "tags": []
   },
   "outputs": [
    {
     "data": {
      "text/plain": [
       "<AxesSubplot:xlabel='FiyatAraligi', ylabel='MikroislemciHizi'>"
      ]
     },
     "execution_count": 14,
     "metadata": {},
     "output_type": "execute_result"
    },
    {
     "data": {
      "image/png": "[encoded data removed]",
      "text/plain": [
       "<Figure size 432x288 with 1 Axes>"
      ]
     },
     "metadata": {
      "needs_background": "light"
     },
     "output_type": "display_data"
    }
   ],
   "source": [
    "sns.pointplot(x='FiyatAraligi',y='MikroislemciHizi',data=df)"
   ]
  },
  {
   "cell_type": "code",
   "execution_count": 15,
   "id": "40fb7bb6",
   "metadata": {
    "execution": {
     "iopub.execute_input": "2021-12-27T13:24:44.959957Z",
     "iopub.status.busy": "2021-12-27T13:24:44.959014Z",
     "iopub.status.idle": "2021-12-27T13:24:45.290843Z",
     "shell.execute_reply": "2021-12-27T13:24:45.291479Z",
     "shell.execute_reply.started": "2021-12-27T11:03:13.844255Z"
    },
    "papermill": {
     "duration": 0.390526,
     "end_time": "2021-12-27T13:24:45.291668",
     "exception": false,
     "start_time": "2021-12-27T13:24:44.901142",
     "status": "completed"
    },
    "tags": []
   },
   "outputs": [
    {
     "data": {
      "text/plain": [
       "<AxesSubplot:xlabel='FiyatAraligi', ylabel='OnKameraMP'>"
      ]
     },
     "execution_count": 15,
     "metadata": {},
     "output_type": "execute_result"
    },
    {
     "data": {
      "image/png": "[encoded data removed]",
      "text/plain": [
       "<Figure size 432x288 with 1 Axes>"
      ]
     },
     "metadata": {
      "needs_background": "light"
     },
     "output_type": "display_data"
    }
   ],
   "source": [
    "sns.pointplot(x='FiyatAraligi',y='OnKameraMP',data=df)"
   ]
  },
  {
   "cell_type": "code",
   "execution_count": 16,
   "id": "554dad4c",
   "metadata": {
    "execution": {
     "iopub.execute_input": "2021-12-27T13:24:45.405209Z",
     "iopub.status.busy": "2021-12-27T13:24:45.404278Z",
     "iopub.status.idle": "2021-12-27T13:24:45.750185Z",
     "shell.execute_reply": "2021-12-27T13:24:45.750656Z",
     "shell.execute_reply.started": "2021-12-27T11:04:49.233587Z"
    },
    "papermill": {
     "duration": 0.404346,
     "end_time": "2021-12-27T13:24:45.750820",
     "exception": false,
     "start_time": "2021-12-27T13:24:45.346474",
     "status": "completed"
    },
    "tags": []
   },
   "outputs": [
    {
     "data": {
      "text/plain": [
       "<AxesSubplot:xlabel='FiyatAraligi', ylabel='ArkaKameraMP'>"
      ]
     },
     "execution_count": 16,
     "metadata": {},
     "output_type": "execute_result"
    },
    {
     "data": {
      "image/png": "[encoded data removed]",
      "text/plain": [
       "<Figure size 432x288 with 1 Axes>"
      ]
     },
     "metadata": {
      "needs_background": "light"
     },
     "output_type": "display_data"
    }
   ],
   "source": [
    "sns.pointplot(x='FiyatAraligi',y='ArkaKameraMP',data=df)"
   ]
  },
  {
   "cell_type": "code",
   "execution_count": 17,
   "id": "110c2e66",
   "metadata": {
    "execution": {
     "iopub.execute_input": "2021-12-27T13:24:45.869219Z",
     "iopub.status.busy": "2021-12-27T13:24:45.868554Z",
     "iopub.status.idle": "2021-12-27T13:24:46.209659Z",
     "shell.execute_reply": "2021-12-27T13:24:46.209132Z",
     "shell.execute_reply.started": "2021-12-27T11:06:05.872411Z"
    },
    "papermill": {
     "duration": 0.403166,
     "end_time": "2021-12-27T13:24:46.209796",
     "exception": false,
     "start_time": "2021-12-27T13:24:45.806630",
     "status": "completed"
    },
    "tags": []
   },
   "outputs": [
    {
     "data": {
      "text/plain": [
       "<AxesSubplot:xlabel='FiyatAraligi', ylabel='DahiliBellek'>"
      ]
     },
     "execution_count": 17,
     "metadata": {},
     "output_type": "execute_result"
    },
    {
     "data": {
      "image/png": "[encoded data removed]",
      "text/plain": [
       "<Figure size 432x288 with 1 Axes>"
      ]
     },
     "metadata": {
      "needs_background": "light"
     },
     "output_type": "display_data"
    }
   ],
   "source": [
    "sns.pointplot(x='FiyatAraligi',y='DahiliBellek',data=df)"
   ]
  },
  {
   "cell_type": "code",
   "execution_count": 18,
   "id": "7781ce01",
   "metadata": {
    "execution": {
     "iopub.execute_input": "2021-12-27T13:24:46.333213Z",
     "iopub.status.busy": "2021-12-27T13:24:46.332282Z",
     "iopub.status.idle": "2021-12-27T13:24:46.664138Z",
     "shell.execute_reply": "2021-12-27T13:24:46.663564Z",
     "shell.execute_reply.started": "2021-12-27T11:07:50.865883Z"
    },
    "papermill": {
     "duration": 0.395526,
     "end_time": "2021-12-27T13:24:46.664293",
     "exception": false,
     "start_time": "2021-12-27T13:24:46.268767",
     "status": "completed"
    },
    "tags": []
   },
   "outputs": [
    {
     "data": {
      "text/plain": [
       "<AxesSubplot:xlabel='FiyatAraligi', ylabel='Agirlik'>"
      ]
     },
     "execution_count": 18,
     "metadata": {},
     "output_type": "execute_result"
    },
    {
     "data": {
      "image/png": "[encoded data removed]",
      "text/plain": [
       "<Figure size 432x288 with 1 Axes>"
      ]
     },
     "metadata": {
      "needs_background": "light"
     },
     "output_type": "display_data"
    }
   ],
   "source": [
    "sns.pointplot(x='FiyatAraligi',y='Agirlik',data=df)"
   ]
  },
  {
   "cell_type": "code",
   "execution_count": 19,
   "id": "eee43968",
   "metadata": {
    "execution": {
     "iopub.execute_input": "2021-12-27T13:24:46.784566Z",
     "iopub.status.busy": "2021-12-27T13:24:46.783596Z",
     "iopub.status.idle": "2021-12-27T13:24:47.090660Z",
     "shell.execute_reply": "2021-12-27T13:24:47.090035Z",
     "shell.execute_reply.started": "2021-12-27T11:09:13.897360Z"
    },
    "papermill": {
     "duration": 0.368279,
     "end_time": "2021-12-27T13:24:47.090797",
     "exception": false,
     "start_time": "2021-12-27T13:24:46.722518",
     "status": "completed"
    },
    "tags": []
   },
   "outputs": [
    {
     "data": {
      "text/plain": [
       "<seaborn.axisgrid.FacetGrid at 0x7f498793b1d0>"
      ]
     },
     "execution_count": 19,
     "metadata": {},
     "output_type": "execute_result"
    },
    {
     "data": {
      "image/png": "[encoded data removed]",
      "text/plain": [
       "<Figure size 360x360 with 1 Axes>"
      ]
     },
     "metadata": {
      "needs_background": "light"
     },
     "output_type": "display_data"
    }
   ],
   "source": [
    "sns.catplot(x='FiyatAraligi',y='Agirlik',data=df)"
   ]
  },
  {
   "cell_type": "code",
   "execution_count": 20,
   "id": "278148fd",
   "metadata": {
    "execution": {
     "iopub.execute_input": "2021-12-27T13:24:47.218263Z",
     "iopub.status.busy": "2021-12-27T13:24:47.217611Z",
     "iopub.status.idle": "2021-12-27T13:24:47.536089Z",
     "shell.execute_reply": "2021-12-27T13:24:47.536535Z",
     "shell.execute_reply.started": "2021-12-27T11:10:12.985105Z"
    },
    "papermill": {
     "duration": 0.385357,
     "end_time": "2021-12-27T13:24:47.536704",
     "exception": false,
     "start_time": "2021-12-27T13:24:47.151347",
     "status": "completed"
    },
    "tags": []
   },
   "outputs": [
    {
     "data": {
      "text/plain": [
       "<seaborn.axisgrid.FacetGrid at 0x7f4987686650>"
      ]
     },
     "execution_count": 20,
     "metadata": {},
     "output_type": "execute_result"
    },
    {
     "data": {
      "image/png": "[encoded data removed]",
      "text/plain": [
       "<Figure size 360x360 with 1 Axes>"
      ]
     },
     "metadata": {
      "needs_background": "light"
     },
     "output_type": "display_data"
    }
   ],
   "source": [
    "sns.catplot(x='FiyatAraligi',y='RAM',data=df)"
   ]
  },
  {
   "cell_type": "code",
   "execution_count": 21,
   "id": "e8f17d84",
   "metadata": {
    "execution": {
     "iopub.execute_input": "2021-12-27T13:24:47.665686Z",
     "iopub.status.busy": "2021-12-27T13:24:47.664734Z",
     "iopub.status.idle": "2021-12-27T13:24:47.940426Z",
     "shell.execute_reply": "2021-12-27T13:24:47.939678Z",
     "shell.execute_reply.started": "2021-12-27T11:12:21.007601Z"
    },
    "papermill": {
     "duration": 0.341747,
     "end_time": "2021-12-27T13:24:47.940580",
     "exception": false,
     "start_time": "2021-12-27T13:24:47.598833",
     "status": "completed"
    },
    "tags": []
   },
   "outputs": [
    {
     "data": {
      "text/plain": [
       "<seaborn.axisgrid.FacetGrid at 0x7f4987633fd0>"
      ]
     },
     "execution_count": 21,
     "metadata": {},
     "output_type": "execute_result"
    },
    {
     "data": {
      "image/png": "[encoded data removed]",
      "text/plain": [
       "<Figure size 360x360 with 1 Axes>"
      ]
     },
     "metadata": {
      "needs_background": "light"
     },
     "output_type": "display_data"
    }
   ],
   "source": [
    "sns.catplot(x='FiyatAraligi',y='CozunurlukGenislik',data=df)"
   ]
  },
  {
   "cell_type": "code",
   "execution_count": 22,
   "id": "46ee7f80",
   "metadata": {
    "execution": {
     "iopub.execute_input": "2021-12-27T13:24:48.075003Z",
     "iopub.status.busy": "2021-12-27T13:24:48.074057Z",
     "iopub.status.idle": "2021-12-27T13:24:48.389317Z",
     "shell.execute_reply": "2021-12-27T13:24:48.389796Z",
     "shell.execute_reply.started": "2021-12-27T11:13:34.180052Z"
    },
    "papermill": {
     "duration": 0.384808,
     "end_time": "2021-12-27T13:24:48.390015",
     "exception": false,
     "start_time": "2021-12-27T13:24:48.005207",
     "status": "completed"
    },
    "tags": []
   },
   "outputs": [
    {
     "data": {
      "text/plain": [
       "<seaborn.axisgrid.FacetGrid at 0x7f49875b7790>"
      ]
     },
     "execution_count": 22,
     "metadata": {},
     "output_type": "execute_result"
    },
    {
     "data": {
      "image/png": "[encoded data removed]",
      "text/plain": [
       "<Figure size 360x360 with 1 Axes>"
      ]
     },
     "metadata": {
      "needs_background": "light"
     },
     "output_type": "display_data"
    }
   ],
   "source": [
    "sns.catplot(x='FiyatAraligi',y='BataryaOmru',data=df)"
   ]
  },
  {
   "cell_type": "code",
   "execution_count": 23,
   "id": "1fae3c9a",
   "metadata": {
    "execution": {
     "iopub.execute_input": "2021-12-27T13:24:48.528232Z",
     "iopub.status.busy": "2021-12-27T13:24:48.527276Z",
     "iopub.status.idle": "2021-12-27T13:24:48.718904Z",
     "shell.execute_reply": "2021-12-27T13:24:48.719383Z",
     "shell.execute_reply.started": "2021-12-27T11:14:45.675493Z"
    },
    "papermill": {
     "duration": 0.26298,
     "end_time": "2021-12-27T13:24:48.719591",
     "exception": false,
     "start_time": "2021-12-27T13:24:48.456611",
     "status": "completed"
    },
    "tags": []
   },
   "outputs": [
    {
     "data": {
      "text/plain": [
       "<AxesSubplot:xlabel='FiyatAraligi', ylabel='count'>"
      ]
     },
     "execution_count": 23,
     "metadata": {},
     "output_type": "execute_result"
    },
    {
     "data": {
      "image/png": "[encoded data removed]",
      "text/plain": [
       "<Figure size 432x288 with 1 Axes>"
      ]
     },
     "metadata": {
      "needs_background": "light"
     },
     "output_type": "display_data"
    }
   ],
   "source": [
    "sns.countplot(x='FiyatAraligi',data=df)"
   ]
  },
  {
   "cell_type": "code",
   "execution_count": 24,
   "id": "680b6413",
   "metadata": {
    "execution": {
     "iopub.execute_input": "2021-12-27T13:24:48.859589Z",
     "iopub.status.busy": "2021-12-27T13:24:48.858620Z",
     "iopub.status.idle": "2021-12-27T13:24:48.874476Z",
     "shell.execute_reply": "2021-12-27T13:24:48.873858Z",
     "shell.execute_reply.started": "2021-12-27T11:15:21.485727Z"
    },
    "papermill": {
     "duration": 0.087617,
     "end_time": "2021-12-27T13:24:48.874639",
     "exception": false,
     "start_time": "2021-12-27T13:24:48.787022",
     "status": "completed"
    },
    "tags": []
   },
   "outputs": [
    {
     "name": "stdout",
     "output_type": "stream",
     "text": [
      "<class 'pandas.core.frame.DataFrame'>\n",
      "RangeIndex: 2000 entries, 0 to 1999\n",
      "Data columns (total 20 columns):\n",
      " #   Column               Non-Null Count  Dtype  \n",
      "---  ------               --------------  -----  \n",
      " 0   BataryaGucu          2000 non-null   int64  \n",
      " 1   Bluetooth            2000 non-null   object \n",
      " 2   MikroislemciHizi     2000 non-null   float64\n",
      " 3   CiftHat              2000 non-null   object \n",
      " 4   OnKameraMP           1995 non-null   float64\n",
      " 5   4G                   2000 non-null   object \n",
      " 6   DahiliBellek         2000 non-null   int64  \n",
      " 7   Kalinlik             2000 non-null   float64\n",
      " 8   Agirlik              2000 non-null   int64  \n",
      " 9   CekirdekSayisi       2000 non-null   int64  \n",
      " 10  ArkaKameraMP         2000 non-null   int64  \n",
      " 11  CozunurlukYükseklik  2000 non-null   int64  \n",
      " 12  CozunurlukGenislik   2000 non-null   int64  \n",
      " 13  RAM                  1988 non-null   float64\n",
      " 14  BataryaOmru          2000 non-null   int64  \n",
      " 15  3G                   2000 non-null   object \n",
      " 16  Dokunmatik           2000 non-null   object \n",
      " 17  WiFi                 2000 non-null   object \n",
      " 18  FiyatAraligi         2000 non-null   object \n",
      " 19  Renk                 2000 non-null   object \n",
      "dtypes: float64(4), int64(8), object(8)\n",
      "memory usage: 312.6+ KB\n"
     ]
    }
   ],
   "source": [
    "df.info()"
   ]
  },
  {
   "cell_type": "code",
   "execution_count": 25,
   "id": "9d1ac511",
   "metadata": {
    "execution": {
     "iopub.execute_input": "2021-12-27T13:24:49.020476Z",
     "iopub.status.busy": "2021-12-27T13:24:49.019742Z",
     "iopub.status.idle": "2021-12-27T13:24:49.023335Z",
     "shell.execute_reply": "2021-12-27T13:24:49.023872Z",
     "shell.execute_reply.started": "2021-12-27T11:17:03.235853Z"
    },
    "papermill": {
     "duration": 0.079001,
     "end_time": "2021-12-27T13:24:49.024086",
     "exception": false,
     "start_time": "2021-12-27T13:24:48.945085",
     "status": "completed"
    },
    "tags": []
   },
   "outputs": [
    {
     "data": {
      "text/plain": [
       "array(['Yok', 'Var'], dtype=object)"
      ]
     },
     "execution_count": 25,
     "metadata": {},
     "output_type": "execute_result"
    }
   ],
   "source": [
    "df['Bluetooth'].unique()"
   ]
  },
  {
   "cell_type": "code",
   "execution_count": 26,
   "id": "e49fa0d8",
   "metadata": {
    "execution": {
     "iopub.execute_input": "2021-12-27T13:24:49.166296Z",
     "iopub.status.busy": "2021-12-27T13:24:49.165610Z",
     "iopub.status.idle": "2021-12-27T13:24:49.170715Z",
     "shell.execute_reply": "2021-12-27T13:24:49.171209Z",
     "shell.execute_reply.started": "2021-12-27T11:18:13.472696Z"
    },
    "papermill": {
     "duration": 0.077781,
     "end_time": "2021-12-27T13:24:49.171420",
     "exception": false,
     "start_time": "2021-12-27T13:24:49.093639",
     "status": "completed"
    },
    "tags": []
   },
   "outputs": [
    {
     "data": {
      "text/plain": [
       "array(['Yok', 'Var'], dtype=object)"
      ]
     },
     "execution_count": 26,
     "metadata": {},
     "output_type": "execute_result"
    }
   ],
   "source": [
    "df['CiftHat'].unique()"
   ]
  },
  {
   "cell_type": "code",
   "execution_count": 27,
   "id": "a033ac79",
   "metadata": {
    "execution": {
     "iopub.execute_input": "2021-12-27T13:24:49.317844Z",
     "iopub.status.busy": "2021-12-27T13:24:49.316879Z",
     "iopub.status.idle": "2021-12-27T13:24:49.321148Z",
     "shell.execute_reply": "2021-12-27T13:24:49.320559Z",
     "shell.execute_reply.started": "2021-12-27T11:18:40.036499Z"
    },
    "papermill": {
     "duration": 0.079933,
     "end_time": "2021-12-27T13:24:49.321309",
     "exception": false,
     "start_time": "2021-12-27T13:24:49.241376",
     "status": "completed"
    },
    "tags": []
   },
   "outputs": [
    {
     "data": {
      "text/plain": [
       "array(['Yok', 'Var'], dtype=object)"
      ]
     },
     "execution_count": 27,
     "metadata": {},
     "output_type": "execute_result"
    }
   ],
   "source": [
    "df['4G'].unique()"
   ]
  },
  {
   "cell_type": "code",
   "execution_count": 28,
   "id": "b4b892a1",
   "metadata": {
    "execution": {
     "iopub.execute_input": "2021-12-27T13:24:49.467108Z",
     "iopub.status.busy": "2021-12-27T13:24:49.466063Z",
     "iopub.status.idle": "2021-12-27T13:24:49.470531Z",
     "shell.execute_reply": "2021-12-27T13:24:49.471054Z",
     "shell.execute_reply.started": "2021-12-27T11:19:07.208397Z"
    },
    "papermill": {
     "duration": 0.080386,
     "end_time": "2021-12-27T13:24:49.471260",
     "exception": false,
     "start_time": "2021-12-27T13:24:49.390874",
     "status": "completed"
    },
    "tags": []
   },
   "outputs": [
    {
     "data": {
      "text/plain": [
       "array(['Var', 'Yok'], dtype=object)"
      ]
     },
     "execution_count": 28,
     "metadata": {},
     "output_type": "execute_result"
    }
   ],
   "source": [
    "df['3G'].unique()"
   ]
  },
  {
   "cell_type": "code",
   "execution_count": 29,
   "id": "ba0368cb",
   "metadata": {
    "execution": {
     "iopub.execute_input": "2021-12-27T13:24:49.619732Z",
     "iopub.status.busy": "2021-12-27T13:24:49.619062Z",
     "iopub.status.idle": "2021-12-27T13:24:49.625534Z",
     "shell.execute_reply": "2021-12-27T13:24:49.626207Z",
     "shell.execute_reply.started": "2021-12-27T11:20:19.031444Z"
    },
    "papermill": {
     "duration": 0.084208,
     "end_time": "2021-12-27T13:24:49.626409",
     "exception": false,
     "start_time": "2021-12-27T13:24:49.542201",
     "status": "completed"
    },
    "tags": []
   },
   "outputs": [
    {
     "data": {
      "text/plain": [
       "array(['Beyaz', 'Pembe', 'Mor', 'Turuncu', 'Gri', 'Sarı', 'Mavi',\n",
       "       'Turkuaz', 'Kahverengi', 'Yeşil', 'Kırmızı', 'Siyah'], dtype=object)"
      ]
     },
     "execution_count": 29,
     "metadata": {},
     "output_type": "execute_result"
    }
   ],
   "source": [
    "df['Renk'].unique()"
   ]
  },
  {
   "cell_type": "code",
   "execution_count": 30,
   "id": "a789aa7b",
   "metadata": {
    "execution": {
     "iopub.execute_input": "2021-12-27T13:24:49.770322Z",
     "iopub.status.busy": "2021-12-27T13:24:49.769642Z",
     "iopub.status.idle": "2021-12-27T13:24:49.789370Z",
     "shell.execute_reply": "2021-12-27T13:24:49.789865Z",
     "shell.execute_reply.started": "2021-12-27T11:23:06.879490Z"
    },
    "papermill": {
     "duration": 0.093784,
     "end_time": "2021-12-27T13:24:49.790095",
     "exception": false,
     "start_time": "2021-12-27T13:24:49.696311",
     "status": "completed"
    },
    "tags": []
   },
   "outputs": [
    {
     "data": {
      "text/html": [
       "<div>\n",
       "<style scoped>\n",
       "    .dataframe tbody tr th:only-of-type {\n",
       "        vertical-align: middle;\n",
       "    }\n",
       "\n",
       "    .dataframe tbody tr th {\n",
       "        vertical-align: top;\n",
       "    }\n",
       "\n",
       "    .dataframe thead th {\n",
       "        text-align: right;\n",
       "    }\n",
       "</style>\n",
       "<table border=\"1\" class=\"dataframe\">\n",
       "  <thead>\n",
       "    <tr style=\"text-align: right;\">\n",
       "      <th></th>\n",
       "      <th>Enc__Beyaz</th>\n",
       "      <th>Enc__Gri</th>\n",
       "      <th>Enc__Kahverengi</th>\n",
       "      <th>Enc__Kırmızı</th>\n",
       "      <th>Enc__Mavi</th>\n",
       "      <th>Enc__Mor</th>\n",
       "      <th>Enc__Pembe</th>\n",
       "      <th>Enc__Sarı</th>\n",
       "      <th>Enc__Siyah</th>\n",
       "      <th>Enc__Turkuaz</th>\n",
       "      <th>Enc__Turuncu</th>\n",
       "      <th>Enc__Yeşil</th>\n",
       "    </tr>\n",
       "  </thead>\n",
       "  <tbody>\n",
       "    <tr>\n",
       "      <th>0</th>\n",
       "      <td>1</td>\n",
       "      <td>0</td>\n",
       "      <td>0</td>\n",
       "      <td>0</td>\n",
       "      <td>0</td>\n",
       "      <td>0</td>\n",
       "      <td>0</td>\n",
       "      <td>0</td>\n",
       "      <td>0</td>\n",
       "      <td>0</td>\n",
       "      <td>0</td>\n",
       "      <td>0</td>\n",
       "    </tr>\n",
       "    <tr>\n",
       "      <th>1</th>\n",
       "      <td>0</td>\n",
       "      <td>0</td>\n",
       "      <td>0</td>\n",
       "      <td>0</td>\n",
       "      <td>0</td>\n",
       "      <td>0</td>\n",
       "      <td>1</td>\n",
       "      <td>0</td>\n",
       "      <td>0</td>\n",
       "      <td>0</td>\n",
       "      <td>0</td>\n",
       "      <td>0</td>\n",
       "    </tr>\n",
       "    <tr>\n",
       "      <th>2</th>\n",
       "      <td>0</td>\n",
       "      <td>0</td>\n",
       "      <td>0</td>\n",
       "      <td>0</td>\n",
       "      <td>0</td>\n",
       "      <td>1</td>\n",
       "      <td>0</td>\n",
       "      <td>0</td>\n",
       "      <td>0</td>\n",
       "      <td>0</td>\n",
       "      <td>0</td>\n",
       "      <td>0</td>\n",
       "    </tr>\n",
       "    <tr>\n",
       "      <th>3</th>\n",
       "      <td>0</td>\n",
       "      <td>0</td>\n",
       "      <td>0</td>\n",
       "      <td>0</td>\n",
       "      <td>0</td>\n",
       "      <td>0</td>\n",
       "      <td>0</td>\n",
       "      <td>0</td>\n",
       "      <td>0</td>\n",
       "      <td>0</td>\n",
       "      <td>1</td>\n",
       "      <td>0</td>\n",
       "    </tr>\n",
       "    <tr>\n",
       "      <th>4</th>\n",
       "      <td>1</td>\n",
       "      <td>0</td>\n",
       "      <td>0</td>\n",
       "      <td>0</td>\n",
       "      <td>0</td>\n",
       "      <td>0</td>\n",
       "      <td>0</td>\n",
       "      <td>0</td>\n",
       "      <td>0</td>\n",
       "      <td>0</td>\n",
       "      <td>0</td>\n",
       "      <td>0</td>\n",
       "    </tr>\n",
       "    <tr>\n",
       "      <th>...</th>\n",
       "      <td>...</td>\n",
       "      <td>...</td>\n",
       "      <td>...</td>\n",
       "      <td>...</td>\n",
       "      <td>...</td>\n",
       "      <td>...</td>\n",
       "      <td>...</td>\n",
       "      <td>...</td>\n",
       "      <td>...</td>\n",
       "      <td>...</td>\n",
       "      <td>...</td>\n",
       "      <td>...</td>\n",
       "    </tr>\n",
       "    <tr>\n",
       "      <th>1995</th>\n",
       "      <td>0</td>\n",
       "      <td>0</td>\n",
       "      <td>0</td>\n",
       "      <td>0</td>\n",
       "      <td>0</td>\n",
       "      <td>0</td>\n",
       "      <td>0</td>\n",
       "      <td>0</td>\n",
       "      <td>1</td>\n",
       "      <td>0</td>\n",
       "      <td>0</td>\n",
       "      <td>0</td>\n",
       "    </tr>\n",
       "    <tr>\n",
       "      <th>1996</th>\n",
       "      <td>0</td>\n",
       "      <td>0</td>\n",
       "      <td>0</td>\n",
       "      <td>0</td>\n",
       "      <td>0</td>\n",
       "      <td>0</td>\n",
       "      <td>0</td>\n",
       "      <td>1</td>\n",
       "      <td>0</td>\n",
       "      <td>0</td>\n",
       "      <td>0</td>\n",
       "      <td>0</td>\n",
       "    </tr>\n",
       "    <tr>\n",
       "      <th>1997</th>\n",
       "      <td>0</td>\n",
       "      <td>0</td>\n",
       "      <td>0</td>\n",
       "      <td>0</td>\n",
       "      <td>0</td>\n",
       "      <td>0</td>\n",
       "      <td>0</td>\n",
       "      <td>0</td>\n",
       "      <td>0</td>\n",
       "      <td>0</td>\n",
       "      <td>1</td>\n",
       "      <td>0</td>\n",
       "    </tr>\n",
       "    <tr>\n",
       "      <th>1998</th>\n",
       "      <td>0</td>\n",
       "      <td>0</td>\n",
       "      <td>0</td>\n",
       "      <td>0</td>\n",
       "      <td>0</td>\n",
       "      <td>0</td>\n",
       "      <td>0</td>\n",
       "      <td>0</td>\n",
       "      <td>0</td>\n",
       "      <td>1</td>\n",
       "      <td>0</td>\n",
       "      <td>0</td>\n",
       "    </tr>\n",
       "    <tr>\n",
       "      <th>1999</th>\n",
       "      <td>0</td>\n",
       "      <td>0</td>\n",
       "      <td>0</td>\n",
       "      <td>0</td>\n",
       "      <td>0</td>\n",
       "      <td>0</td>\n",
       "      <td>0</td>\n",
       "      <td>0</td>\n",
       "      <td>1</td>\n",
       "      <td>0</td>\n",
       "      <td>0</td>\n",
       "      <td>0</td>\n",
       "    </tr>\n",
       "  </tbody>\n",
       "</table>\n",
       "<p>2000 rows × 12 columns</p>\n",
       "</div>"
      ],
      "text/plain": [
       "      Enc__Beyaz  Enc__Gri  Enc__Kahverengi  Enc__Kırmızı  Enc__Mavi  \\\n",
       "0              1         0                0             0          0   \n",
       "1              0         0                0             0          0   \n",
       "2              0         0                0             0          0   \n",
       "3              0         0                0             0          0   \n",
       "4              1         0                0             0          0   \n",
       "...          ...       ...              ...           ...        ...   \n",
       "1995           0         0                0             0          0   \n",
       "1996           0         0                0             0          0   \n",
       "1997           0         0                0             0          0   \n",
       "1998           0         0                0             0          0   \n",
       "1999           0         0                0             0          0   \n",
       "\n",
       "      Enc__Mor  Enc__Pembe  Enc__Sarı  Enc__Siyah  Enc__Turkuaz  Enc__Turuncu  \\\n",
       "0            0           0          0           0             0             0   \n",
       "1            0           1          0           0             0             0   \n",
       "2            1           0          0           0             0             0   \n",
       "3            0           0          0           0             0             1   \n",
       "4            0           0          0           0             0             0   \n",
       "...        ...         ...        ...         ...           ...           ...   \n",
       "1995         0           0          0           1             0             0   \n",
       "1996         0           0          1           0             0             0   \n",
       "1997         0           0          0           0             0             1   \n",
       "1998         0           0          0           0             1             0   \n",
       "1999         0           0          0           1             0             0   \n",
       "\n",
       "      Enc__Yeşil  \n",
       "0              0  \n",
       "1              0  \n",
       "2              0  \n",
       "3              0  \n",
       "4              0  \n",
       "...          ...  \n",
       "1995           0  \n",
       "1996           0  \n",
       "1997           0  \n",
       "1998           0  \n",
       "1999           0  \n",
       "\n",
       "[2000 rows x 12 columns]"
      ]
     },
     "execution_count": 30,
     "metadata": {},
     "output_type": "execute_result"
    }
   ],
   "source": [
    "df['Renk']=pd.Categorical(df['Renk'])\n",
    "dfDummies=pd.get_dummies(df['Renk'],prefix='Enc_')\n",
    "dfDummies"
   ]
  },
  {
   "cell_type": "code",
   "execution_count": 31,
   "id": "ef5ed55c",
   "metadata": {
    "execution": {
     "iopub.execute_input": "2021-12-27T13:24:49.942013Z",
     "iopub.status.busy": "2021-12-27T13:24:49.940856Z",
     "iopub.status.idle": "2021-12-27T13:24:49.961318Z",
     "shell.execute_reply": "2021-12-27T13:24:49.962120Z",
     "shell.execute_reply.started": "2021-12-27T11:24:33.666631Z"
    },
    "papermill": {
     "duration": 0.100326,
     "end_time": "2021-12-27T13:24:49.962385",
     "exception": false,
     "start_time": "2021-12-27T13:24:49.862059",
     "status": "completed"
    },
    "tags": []
   },
   "outputs": [
    {
     "name": "stdout",
     "output_type": "stream",
     "text": [
      "<class 'pandas.core.frame.DataFrame'>\n",
      "RangeIndex: 2000 entries, 0 to 1999\n",
      "Data columns (total 32 columns):\n",
      " #   Column               Non-Null Count  Dtype   \n",
      "---  ------               --------------  -----   \n",
      " 0   BataryaGucu          2000 non-null   int64   \n",
      " 1   Bluetooth            2000 non-null   object  \n",
      " 2   MikroislemciHizi     2000 non-null   float64 \n",
      " 3   CiftHat              2000 non-null   object  \n",
      " 4   OnKameraMP           1995 non-null   float64 \n",
      " 5   4G                   2000 non-null   object  \n",
      " 6   DahiliBellek         2000 non-null   int64   \n",
      " 7   Kalinlik             2000 non-null   float64 \n",
      " 8   Agirlik              2000 non-null   int64   \n",
      " 9   CekirdekSayisi       2000 non-null   int64   \n",
      " 10  ArkaKameraMP         2000 non-null   int64   \n",
      " 11  CozunurlukYükseklik  2000 non-null   int64   \n",
      " 12  CozunurlukGenislik   2000 non-null   int64   \n",
      " 13  RAM                  1988 non-null   float64 \n",
      " 14  BataryaOmru          2000 non-null   int64   \n",
      " 15  3G                   2000 non-null   object  \n",
      " 16  Dokunmatik           2000 non-null   object  \n",
      " 17  WiFi                 2000 non-null   object  \n",
      " 18  FiyatAraligi         2000 non-null   object  \n",
      " 19  Renk                 2000 non-null   category\n",
      " 20  Enc__Beyaz           2000 non-null   uint8   \n",
      " 21  Enc__Gri             2000 non-null   uint8   \n",
      " 22  Enc__Kahverengi      2000 non-null   uint8   \n",
      " 23  Enc__Kırmızı         2000 non-null   uint8   \n",
      " 24  Enc__Mavi            2000 non-null   uint8   \n",
      " 25  Enc__Mor             2000 non-null   uint8   \n",
      " 26  Enc__Pembe           2000 non-null   uint8   \n",
      " 27  Enc__Sarı            2000 non-null   uint8   \n",
      " 28  Enc__Siyah           2000 non-null   uint8   \n",
      " 29  Enc__Turkuaz         2000 non-null   uint8   \n",
      " 30  Enc__Turuncu         2000 non-null   uint8   \n",
      " 31  Enc__Yeşil           2000 non-null   uint8   \n",
      "dtypes: category(1), float64(4), int64(8), object(7), uint8(12)\n",
      "memory usage: 322.8+ KB\n"
     ]
    }
   ],
   "source": [
    "df=pd.concat([df,dfDummies],axis=1)\n",
    "df.info()"
   ]
  },
  {
   "cell_type": "code",
   "execution_count": 32,
   "id": "49f97de2",
   "metadata": {
    "execution": {
     "iopub.execute_input": "2021-12-27T13:24:50.122501Z",
     "iopub.status.busy": "2021-12-27T13:24:50.121761Z",
     "iopub.status.idle": "2021-12-27T13:24:50.127641Z",
     "shell.execute_reply": "2021-12-27T13:24:50.128162Z",
     "shell.execute_reply.started": "2021-12-27T11:30:10.496867Z"
    },
    "papermill": {
     "duration": 0.087349,
     "end_time": "2021-12-27T13:24:50.128370",
     "exception": false,
     "start_time": "2021-12-27T13:24:50.041021",
     "status": "completed"
    },
    "tags": []
   },
   "outputs": [],
   "source": [
    "df=tablet\n",
    "df=pd.get_dummies(df,columns=['Renk'], drop_first=True)\n"
   ]
  },
  {
   "cell_type": "code",
   "execution_count": 33,
   "id": "f6310bb3",
   "metadata": {
    "execution": {
     "iopub.execute_input": "2021-12-27T13:24:50.275604Z",
     "iopub.status.busy": "2021-12-27T13:24:50.274928Z",
     "iopub.status.idle": "2021-12-27T13:24:50.278115Z",
     "shell.execute_reply": "2021-12-27T13:24:50.278661Z",
     "shell.execute_reply.started": "2021-12-27T11:31:22.749224Z"
    },
    "papermill": {
     "duration": 0.07888,
     "end_time": "2021-12-27T13:24:50.278838",
     "exception": false,
     "start_time": "2021-12-27T13:24:50.199958",
     "status": "completed"
    },
    "tags": []
   },
   "outputs": [],
   "source": [
    "label_encoder=preprocessing.LabelEncoder()"
   ]
  },
  {
   "cell_type": "code",
   "execution_count": 34,
   "id": "7cd3269a",
   "metadata": {
    "execution": {
     "iopub.execute_input": "2021-12-27T13:24:50.427287Z",
     "iopub.status.busy": "2021-12-27T13:24:50.426306Z",
     "iopub.status.idle": "2021-12-27T13:24:50.454623Z",
     "shell.execute_reply": "2021-12-27T13:24:50.455216Z",
     "shell.execute_reply.started": "2021-12-27T12:58:37.649163Z"
    },
    "papermill": {
     "duration": 0.106412,
     "end_time": "2021-12-27T13:24:50.455392",
     "exception": false,
     "start_time": "2021-12-27T13:24:50.348980",
     "status": "completed"
    },
    "tags": []
   },
   "outputs": [
    {
     "data": {
      "text/html": [
       "<div>\n",
       "<style scoped>\n",
       "    .dataframe tbody tr th:only-of-type {\n",
       "        vertical-align: middle;\n",
       "    }\n",
       "\n",
       "    .dataframe tbody tr th {\n",
       "        vertical-align: top;\n",
       "    }\n",
       "\n",
       "    .dataframe thead th {\n",
       "        text-align: right;\n",
       "    }\n",
       "</style>\n",
       "<table border=\"1\" class=\"dataframe\">\n",
       "  <thead>\n",
       "    <tr style=\"text-align: right;\">\n",
       "      <th></th>\n",
       "      <th>BataryaGucu</th>\n",
       "      <th>MikroislemciHizi</th>\n",
       "      <th>OnKameraMP</th>\n",
       "      <th>DahiliBellek</th>\n",
       "      <th>Kalinlik</th>\n",
       "      <th>Agirlik</th>\n",
       "      <th>CekirdekSayisi</th>\n",
       "      <th>ArkaKameraMP</th>\n",
       "      <th>CozunurlukYükseklik</th>\n",
       "      <th>CozunurlukGenislik</th>\n",
       "      <th>...</th>\n",
       "      <th>Renk_Sarı</th>\n",
       "      <th>Renk_Siyah</th>\n",
       "      <th>Renk_Turkuaz</th>\n",
       "      <th>Renk_Turuncu</th>\n",
       "      <th>Renk_Yeşil</th>\n",
       "      <th>Bluetooth_Enc</th>\n",
       "      <th>CiftHat_Enc</th>\n",
       "      <th>4G_Enc</th>\n",
       "      <th>Dokunmatik_Enc</th>\n",
       "      <th>WiFi_Enc</th>\n",
       "    </tr>\n",
       "  </thead>\n",
       "  <tbody>\n",
       "    <tr>\n",
       "      <th>0</th>\n",
       "      <td>1325</td>\n",
       "      <td>1.9</td>\n",
       "      <td>2.0</td>\n",
       "      <td>50</td>\n",
       "      <td>0.1</td>\n",
       "      <td>146</td>\n",
       "      <td>1</td>\n",
       "      <td>10</td>\n",
       "      <td>499</td>\n",
       "      <td>695</td>\n",
       "      <td>...</td>\n",
       "      <td>0</td>\n",
       "      <td>0</td>\n",
       "      <td>0</td>\n",
       "      <td>0</td>\n",
       "      <td>0</td>\n",
       "      <td>1</td>\n",
       "      <td>1</td>\n",
       "      <td>1</td>\n",
       "      <td>1</td>\n",
       "      <td>1</td>\n",
       "    </tr>\n",
       "    <tr>\n",
       "      <th>1</th>\n",
       "      <td>1046</td>\n",
       "      <td>2.8</td>\n",
       "      <td>0.0</td>\n",
       "      <td>58</td>\n",
       "      <td>0.2</td>\n",
       "      <td>100</td>\n",
       "      <td>8</td>\n",
       "      <td>0</td>\n",
       "      <td>259</td>\n",
       "      <td>1040</td>\n",
       "      <td>...</td>\n",
       "      <td>0</td>\n",
       "      <td>0</td>\n",
       "      <td>0</td>\n",
       "      <td>0</td>\n",
       "      <td>0</td>\n",
       "      <td>0</td>\n",
       "      <td>0</td>\n",
       "      <td>0</td>\n",
       "      <td>0</td>\n",
       "      <td>0</td>\n",
       "    </tr>\n",
       "    <tr>\n",
       "      <th>2</th>\n",
       "      <td>843</td>\n",
       "      <td>1.3</td>\n",
       "      <td>1.0</td>\n",
       "      <td>16</td>\n",
       "      <td>0.9</td>\n",
       "      <td>119</td>\n",
       "      <td>7</td>\n",
       "      <td>4</td>\n",
       "      <td>593</td>\n",
       "      <td>732</td>\n",
       "      <td>...</td>\n",
       "      <td>0</td>\n",
       "      <td>0</td>\n",
       "      <td>0</td>\n",
       "      <td>0</td>\n",
       "      <td>0</td>\n",
       "      <td>1</td>\n",
       "      <td>0</td>\n",
       "      <td>1</td>\n",
       "      <td>1</td>\n",
       "      <td>0</td>\n",
       "    </tr>\n",
       "    <tr>\n",
       "      <th>3</th>\n",
       "      <td>894</td>\n",
       "      <td>0.5</td>\n",
       "      <td>1.0</td>\n",
       "      <td>50</td>\n",
       "      <td>0.5</td>\n",
       "      <td>199</td>\n",
       "      <td>3</td>\n",
       "      <td>14</td>\n",
       "      <td>1285</td>\n",
       "      <td>1462</td>\n",
       "      <td>...</td>\n",
       "      <td>0</td>\n",
       "      <td>0</td>\n",
       "      <td>0</td>\n",
       "      <td>1</td>\n",
       "      <td>0</td>\n",
       "      <td>1</td>\n",
       "      <td>0</td>\n",
       "      <td>0</td>\n",
       "      <td>1</td>\n",
       "      <td>0</td>\n",
       "    </tr>\n",
       "    <tr>\n",
       "      <th>4</th>\n",
       "      <td>936</td>\n",
       "      <td>1.0</td>\n",
       "      <td>1.0</td>\n",
       "      <td>18</td>\n",
       "      <td>0.2</td>\n",
       "      <td>153</td>\n",
       "      <td>3</td>\n",
       "      <td>18</td>\n",
       "      <td>1330</td>\n",
       "      <td>1686</td>\n",
       "      <td>...</td>\n",
       "      <td>0</td>\n",
       "      <td>0</td>\n",
       "      <td>0</td>\n",
       "      <td>0</td>\n",
       "      <td>0</td>\n",
       "      <td>1</td>\n",
       "      <td>1</td>\n",
       "      <td>1</td>\n",
       "      <td>0</td>\n",
       "      <td>0</td>\n",
       "    </tr>\n",
       "  </tbody>\n",
       "</table>\n",
       "<p>5 rows × 30 columns</p>\n",
       "</div>"
      ],
      "text/plain": [
       "   BataryaGucu  MikroislemciHizi  OnKameraMP  DahiliBellek  Kalinlik  Agirlik  \\\n",
       "0         1325               1.9         2.0            50       0.1      146   \n",
       "1         1046               2.8         0.0            58       0.2      100   \n",
       "2          843               1.3         1.0            16       0.9      119   \n",
       "3          894               0.5         1.0            50       0.5      199   \n",
       "4          936               1.0         1.0            18       0.2      153   \n",
       "\n",
       "   CekirdekSayisi  ArkaKameraMP  CozunurlukYükseklik  CozunurlukGenislik  ...  \\\n",
       "0               1            10                  499                 695  ...   \n",
       "1               8             0                  259                1040  ...   \n",
       "2               7             4                  593                 732  ...   \n",
       "3               3            14                 1285                1462  ...   \n",
       "4               3            18                 1330                1686  ...   \n",
       "\n",
       "   Renk_Sarı  Renk_Siyah Renk_Turkuaz Renk_Turuncu  Renk_Yeşil  Bluetooth_Enc  \\\n",
       "0          0           0            0            0           0              1   \n",
       "1          0           0            0            0           0              0   \n",
       "2          0           0            0            0           0              1   \n",
       "3          0           0            0            1           0              1   \n",
       "4          0           0            0            0           0              1   \n",
       "\n",
       "   CiftHat_Enc  4G_Enc  Dokunmatik_Enc  WiFi_Enc  \n",
       "0            1       1               1         1  \n",
       "1            0       0               0         0  \n",
       "2            0       1               1         0  \n",
       "3            0       0               1         0  \n",
       "4            1       1               0         0  \n",
       "\n",
       "[5 rows x 30 columns]"
      ]
     },
     "execution_count": 34,
     "metadata": {},
     "output_type": "execute_result"
    }
   ],
   "source": [
    "df['Bluetooth_Enc']=label_encoder.fit_transform(df['Bluetooth'])\n",
    "df['CiftHat_Enc']=label_encoder.fit_transform(df['CiftHat'])\n",
    "df['4G_Enc']=label_encoder.fit_transform(df['4G'])\n",
    "df['Dokunmatik_Enc']=label_encoder.fit_transform(df['Dokunmatik'])\n",
    "df['WiFi_Enc']=label_encoder.fit_transform(df['WiFi'])\n",
    "df=df.drop(['Bluetooth','CiftHat','4G','Dokunmatik','WiFi'],axis=1)\n",
    "df.head()"
   ]
  },
  {
   "cell_type": "code",
   "execution_count": 35,
   "id": "f8e9457f",
   "metadata": {
    "execution": {
     "iopub.execute_input": "2021-12-27T13:24:50.600440Z",
     "iopub.status.busy": "2021-12-27T13:24:50.599511Z",
     "iopub.status.idle": "2021-12-27T13:24:50.614644Z",
     "shell.execute_reply": "2021-12-27T13:24:50.615439Z",
     "shell.execute_reply.started": "2021-12-27T11:40:46.453653Z"
    },
    "papermill": {
     "duration": 0.089602,
     "end_time": "2021-12-27T13:24:50.615713",
     "exception": false,
     "start_time": "2021-12-27T13:24:50.526111",
     "status": "completed"
    },
    "tags": []
   },
   "outputs": [
    {
     "name": "stdout",
     "output_type": "stream",
     "text": [
      "<class 'pandas.core.frame.DataFrame'>\n",
      "RangeIndex: 2000 entries, 0 to 1999\n",
      "Data columns (total 30 columns):\n",
      " #   Column               Non-Null Count  Dtype  \n",
      "---  ------               --------------  -----  \n",
      " 0   BataryaGucu          2000 non-null   int64  \n",
      " 1   MikroislemciHizi     2000 non-null   float64\n",
      " 2   OnKameraMP           1995 non-null   float64\n",
      " 3   DahiliBellek         2000 non-null   int64  \n",
      " 4   Kalinlik             2000 non-null   float64\n",
      " 5   Agirlik              2000 non-null   int64  \n",
      " 6   CekirdekSayisi       2000 non-null   int64  \n",
      " 7   ArkaKameraMP         2000 non-null   int64  \n",
      " 8   CozunurlukYükseklik  2000 non-null   int64  \n",
      " 9   CozunurlukGenislik   2000 non-null   int64  \n",
      " 10  RAM                  1988 non-null   float64\n",
      " 11  BataryaOmru          2000 non-null   int64  \n",
      " 12  3G                   2000 non-null   object \n",
      " 13  FiyatAraligi         2000 non-null   object \n",
      " 14  Renk_Gri             2000 non-null   uint8  \n",
      " 15  Renk_Kahverengi      2000 non-null   uint8  \n",
      " 16  Renk_Kırmızı         2000 non-null   uint8  \n",
      " 17  Renk_Mavi            2000 non-null   uint8  \n",
      " 18  Renk_Mor             2000 non-null   uint8  \n",
      " 19  Renk_Pembe           2000 non-null   uint8  \n",
      " 20  Renk_Sarı            2000 non-null   uint8  \n",
      " 21  Renk_Siyah           2000 non-null   uint8  \n",
      " 22  Renk_Turkuaz         2000 non-null   uint8  \n",
      " 23  Renk_Turuncu         2000 non-null   uint8  \n",
      " 24  Renk_Yeşil           2000 non-null   uint8  \n",
      " 25  Bluetooth_Enc        2000 non-null   int64  \n",
      " 26  CiftHat_Enc          2000 non-null   int64  \n",
      " 27  4G_Enc               2000 non-null   int64  \n",
      " 28  Dokunmatik_Enc       2000 non-null   int64  \n",
      " 29  WiFi_Enc             2000 non-null   int64  \n",
      "dtypes: float64(4), int64(13), object(2), uint8(11)\n",
      "memory usage: 318.5+ KB\n"
     ]
    }
   ],
   "source": [
    "df.info()"
   ]
  },
  {
   "cell_type": "code",
   "execution_count": 36,
   "id": "a29ab5f9",
   "metadata": {
    "execution": {
     "iopub.execute_input": "2021-12-27T13:24:50.766150Z",
     "iopub.status.busy": "2021-12-27T13:24:50.765465Z",
     "iopub.status.idle": "2021-12-27T13:24:50.774025Z",
     "shell.execute_reply": "2021-12-27T13:24:50.774526Z",
     "shell.execute_reply.started": "2021-12-27T11:42:18.388572Z"
    },
    "papermill": {
     "duration": 0.084701,
     "end_time": "2021-12-27T13:24:50.774722",
     "exception": false,
     "start_time": "2021-12-27T13:24:50.690021",
     "status": "completed"
    },
    "tags": []
   },
   "outputs": [
    {
     "data": {
      "text/plain": [
       "BataryaGucu             0\n",
       "MikroislemciHizi        0\n",
       "OnKameraMP              5\n",
       "DahiliBellek            0\n",
       "Kalinlik                0\n",
       "Agirlik                 0\n",
       "CekirdekSayisi          0\n",
       "ArkaKameraMP            0\n",
       "CozunurlukYükseklik     0\n",
       "CozunurlukGenislik      0\n",
       "RAM                    12\n",
       "BataryaOmru             0\n",
       "3G                      0\n",
       "FiyatAraligi            0\n",
       "Renk_Gri                0\n",
       "Renk_Kahverengi         0\n",
       "Renk_Kırmızı            0\n",
       "Renk_Mavi               0\n",
       "Renk_Mor                0\n",
       "Renk_Pembe              0\n",
       "Renk_Sarı               0\n",
       "Renk_Siyah              0\n",
       "Renk_Turkuaz            0\n",
       "Renk_Turuncu            0\n",
       "Renk_Yeşil              0\n",
       "Bluetooth_Enc           0\n",
       "CiftHat_Enc             0\n",
       "4G_Enc                  0\n",
       "Dokunmatik_Enc          0\n",
       "WiFi_Enc                0\n",
       "dtype: int64"
      ]
     },
     "execution_count": 36,
     "metadata": {},
     "output_type": "execute_result"
    }
   ],
   "source": [
    "df.isna().sum()"
   ]
  },
  {
   "cell_type": "code",
   "execution_count": 37,
   "id": "becf08aa",
   "metadata": {
    "execution": {
     "iopub.execute_input": "2021-12-27T13:24:50.925872Z",
     "iopub.status.busy": "2021-12-27T13:24:50.925206Z",
     "iopub.status.idle": "2021-12-27T13:24:50.930067Z",
     "shell.execute_reply": "2021-12-27T13:24:50.930542Z",
     "shell.execute_reply.started": "2021-12-27T11:44:15.541160Z"
    },
    "papermill": {
     "duration": 0.083314,
     "end_time": "2021-12-27T13:24:50.930765",
     "exception": false,
     "start_time": "2021-12-27T13:24:50.847451",
     "status": "completed"
    },
    "tags": []
   },
   "outputs": [
    {
     "data": {
      "text/plain": [
       "4.312280701754386"
      ]
     },
     "execution_count": 37,
     "metadata": {},
     "output_type": "execute_result"
    }
   ],
   "source": [
    "df['OnKameraMP'].mean()"
   ]
  },
  {
   "cell_type": "code",
   "execution_count": 38,
   "id": "e4ba10f9",
   "metadata": {
    "execution": {
     "iopub.execute_input": "2021-12-27T13:24:51.082767Z",
     "iopub.status.busy": "2021-12-27T13:24:51.082135Z",
     "iopub.status.idle": "2021-12-27T13:24:51.086038Z",
     "shell.execute_reply": "2021-12-27T13:24:51.086515Z",
     "shell.execute_reply.started": "2021-12-27T11:46:19.796720Z"
    },
    "papermill": {
     "duration": 0.083454,
     "end_time": "2021-12-27T13:24:51.086695",
     "exception": false,
     "start_time": "2021-12-27T13:24:51.003241",
     "status": "completed"
    },
    "tags": []
   },
   "outputs": [],
   "source": [
    "df['OnKameraMP'].fillna(4.312280701754386,inplace=True)"
   ]
  },
  {
   "cell_type": "code",
   "execution_count": 39,
   "id": "c8f683a8",
   "metadata": {
    "execution": {
     "iopub.execute_input": "2021-12-27T13:24:51.235931Z",
     "iopub.status.busy": "2021-12-27T13:24:51.235268Z",
     "iopub.status.idle": "2021-12-27T13:24:51.243926Z",
     "shell.execute_reply": "2021-12-27T13:24:51.243404Z",
     "shell.execute_reply.started": "2021-12-27T11:46:39.342019Z"
    },
    "papermill": {
     "duration": 0.084957,
     "end_time": "2021-12-27T13:24:51.244083",
     "exception": false,
     "start_time": "2021-12-27T13:24:51.159126",
     "status": "completed"
    },
    "tags": []
   },
   "outputs": [
    {
     "data": {
      "text/plain": [
       "BataryaGucu             0\n",
       "MikroislemciHizi        0\n",
       "OnKameraMP              0\n",
       "DahiliBellek            0\n",
       "Kalinlik                0\n",
       "Agirlik                 0\n",
       "CekirdekSayisi          0\n",
       "ArkaKameraMP            0\n",
       "CozunurlukYükseklik     0\n",
       "CozunurlukGenislik      0\n",
       "RAM                    12\n",
       "BataryaOmru             0\n",
       "3G                      0\n",
       "FiyatAraligi            0\n",
       "Renk_Gri                0\n",
       "Renk_Kahverengi         0\n",
       "Renk_Kırmızı            0\n",
       "Renk_Mavi               0\n",
       "Renk_Mor                0\n",
       "Renk_Pembe              0\n",
       "Renk_Sarı               0\n",
       "Renk_Siyah              0\n",
       "Renk_Turkuaz            0\n",
       "Renk_Turuncu            0\n",
       "Renk_Yeşil              0\n",
       "Bluetooth_Enc           0\n",
       "CiftHat_Enc             0\n",
       "4G_Enc                  0\n",
       "Dokunmatik_Enc          0\n",
       "WiFi_Enc                0\n",
       "dtype: int64"
      ]
     },
     "execution_count": 39,
     "metadata": {},
     "output_type": "execute_result"
    }
   ],
   "source": [
    "df.isna().sum()"
   ]
  },
  {
   "cell_type": "code",
   "execution_count": 40,
   "id": "6952aa8d",
   "metadata": {
    "execution": {
     "iopub.execute_input": "2021-12-27T13:24:51.399672Z",
     "iopub.status.busy": "2021-12-27T13:24:51.399023Z",
     "iopub.status.idle": "2021-12-27T13:24:51.401467Z",
     "shell.execute_reply": "2021-12-27T13:24:51.402078Z",
     "shell.execute_reply.started": "2021-12-27T11:47:39.071448Z"
    },
    "papermill": {
     "duration": 0.084153,
     "end_time": "2021-12-27T13:24:51.402264",
     "exception": false,
     "start_time": "2021-12-27T13:24:51.318111",
     "status": "completed"
    },
    "tags": []
   },
   "outputs": [
    {
     "data": {
      "text/plain": [
       "2116.243963782696"
      ]
     },
     "execution_count": 40,
     "metadata": {},
     "output_type": "execute_result"
    }
   ],
   "source": [
    "df['RAM'].mean()"
   ]
  },
  {
   "cell_type": "code",
   "execution_count": 41,
   "id": "d8f2e5ca",
   "metadata": {
    "execution": {
     "iopub.execute_input": "2021-12-27T13:24:51.553761Z",
     "iopub.status.busy": "2021-12-27T13:24:51.553133Z",
     "iopub.status.idle": "2021-12-27T13:24:51.555484Z",
     "shell.execute_reply": "2021-12-27T13:24:51.556137Z",
     "shell.execute_reply.started": "2021-12-27T11:49:08.856517Z"
    },
    "papermill": {
     "duration": 0.080768,
     "end_time": "2021-12-27T13:24:51.556308",
     "exception": false,
     "start_time": "2021-12-27T13:24:51.475540",
     "status": "completed"
    },
    "tags": []
   },
   "outputs": [],
   "source": [
    "df['RAM'].fillna(2116.243963782696,inplace=True)"
   ]
  },
  {
   "cell_type": "code",
   "execution_count": 42,
   "id": "3ecb296a",
   "metadata": {
    "execution": {
     "iopub.execute_input": "2021-12-27T13:24:51.710203Z",
     "iopub.status.busy": "2021-12-27T13:24:51.709543Z",
     "iopub.status.idle": "2021-12-27T13:24:51.716450Z",
     "shell.execute_reply": "2021-12-27T13:24:51.717038Z",
     "shell.execute_reply.started": "2021-12-27T11:49:26.527792Z"
    },
    "papermill": {
     "duration": 0.086615,
     "end_time": "2021-12-27T13:24:51.717219",
     "exception": false,
     "start_time": "2021-12-27T13:24:51.630604",
     "status": "completed"
    },
    "tags": []
   },
   "outputs": [
    {
     "data": {
      "text/plain": [
       "BataryaGucu            0\n",
       "MikroislemciHizi       0\n",
       "OnKameraMP             0\n",
       "DahiliBellek           0\n",
       "Kalinlik               0\n",
       "Agirlik                0\n",
       "CekirdekSayisi         0\n",
       "ArkaKameraMP           0\n",
       "CozunurlukYükseklik    0\n",
       "CozunurlukGenislik     0\n",
       "RAM                    0\n",
       "BataryaOmru            0\n",
       "3G                     0\n",
       "FiyatAraligi           0\n",
       "Renk_Gri               0\n",
       "Renk_Kahverengi        0\n",
       "Renk_Kırmızı           0\n",
       "Renk_Mavi              0\n",
       "Renk_Mor               0\n",
       "Renk_Pembe             0\n",
       "Renk_Sarı              0\n",
       "Renk_Siyah             0\n",
       "Renk_Turkuaz           0\n",
       "Renk_Turuncu           0\n",
       "Renk_Yeşil             0\n",
       "Bluetooth_Enc          0\n",
       "CiftHat_Enc            0\n",
       "4G_Enc                 0\n",
       "Dokunmatik_Enc         0\n",
       "WiFi_Enc               0\n",
       "dtype: int64"
      ]
     },
     "execution_count": 42,
     "metadata": {},
     "output_type": "execute_result"
    }
   ],
   "source": [
    "df.isna().sum()"
   ]
  },
  {
   "cell_type": "code",
   "execution_count": 43,
   "id": "e0dce1d6",
   "metadata": {
    "execution": {
     "iopub.execute_input": "2021-12-27T13:24:51.876113Z",
     "iopub.status.busy": "2021-12-27T13:24:51.875009Z",
     "iopub.status.idle": "2021-12-27T13:24:51.880168Z",
     "shell.execute_reply": "2021-12-27T13:24:51.881054Z",
     "shell.execute_reply.started": "2021-12-27T11:51:05.747585Z"
    },
    "papermill": {
     "duration": 0.091208,
     "end_time": "2021-12-27T13:24:51.881234",
     "exception": false,
     "start_time": "2021-12-27T13:24:51.790026",
     "status": "completed"
    },
    "tags": []
   },
   "outputs": [
    {
     "data": {
      "text/plain": [
       "(2000, 30)"
      ]
     },
     "execution_count": 43,
     "metadata": {},
     "output_type": "execute_result"
    }
   ],
   "source": [
    "df.shape"
   ]
  },
  {
   "cell_type": "code",
   "execution_count": 44,
   "id": "51d0c849",
   "metadata": {
    "execution": {
     "iopub.execute_input": "2021-12-27T13:24:52.082673Z",
     "iopub.status.busy": "2021-12-27T13:24:52.082013Z",
     "iopub.status.idle": "2021-12-27T13:24:52.084488Z",
     "shell.execute_reply": "2021-12-27T13:24:52.084997Z",
     "shell.execute_reply.started": "2021-12-27T12:23:15.536230Z"
    },
    "papermill": {
     "duration": 0.097741,
     "end_time": "2021-12-27T13:24:52.085163",
     "exception": false,
     "start_time": "2021-12-27T13:24:51.987422",
     "status": "completed"
    },
    "tags": []
   },
   "outputs": [],
   "source": [
    "X=df.drop('FiyatAraligi',axis=1)\n",
    "y=df['FiyatAraligi']"
   ]
  },
  {
   "cell_type": "code",
   "execution_count": 45,
   "id": "5d03d22e",
   "metadata": {
    "execution": {
     "iopub.execute_input": "2021-12-27T13:24:52.265528Z",
     "iopub.status.busy": "2021-12-27T13:24:52.264824Z",
     "iopub.status.idle": "2021-12-27T13:24:52.271181Z",
     "shell.execute_reply": "2021-12-27T13:24:52.271784Z",
     "shell.execute_reply.started": "2021-12-27T12:23:26.769711Z"
    },
    "papermill": {
     "duration": 0.092614,
     "end_time": "2021-12-27T13:24:52.272011",
     "exception": false,
     "start_time": "2021-12-27T13:24:52.179397",
     "status": "completed"
    },
    "tags": []
   },
   "outputs": [
    {
     "data": {
      "text/plain": [
       "(2000, 29)"
      ]
     },
     "execution_count": 45,
     "metadata": {},
     "output_type": "execute_result"
    }
   ],
   "source": [
    "X.shape"
   ]
  },
  {
   "cell_type": "code",
   "execution_count": 46,
   "id": "7993382b",
   "metadata": {
    "execution": {
     "iopub.execute_input": "2021-12-27T13:24:52.427569Z",
     "iopub.status.busy": "2021-12-27T13:24:52.426858Z",
     "iopub.status.idle": "2021-12-27T13:24:52.434439Z",
     "shell.execute_reply": "2021-12-27T13:24:52.435072Z",
     "shell.execute_reply.started": "2021-12-27T11:53:33.624358Z"
    },
    "papermill": {
     "duration": 0.087714,
     "end_time": "2021-12-27T13:24:52.435267",
     "exception": false,
     "start_time": "2021-12-27T13:24:52.347553",
     "status": "completed"
    },
    "tags": []
   },
   "outputs": [
    {
     "data": {
      "text/plain": [
       "0    Normal\n",
       "1    Pahalı\n",
       "2      Ucuz\n",
       "3    Pahalı\n",
       "4    Normal\n",
       "Name: FiyatAraligi, dtype: object"
      ]
     },
     "execution_count": 46,
     "metadata": {},
     "output_type": "execute_result"
    }
   ],
   "source": [
    "y.head()"
   ]
  },
  {
   "cell_type": "code",
   "execution_count": 47,
   "id": "6c9a624b",
   "metadata": {
    "execution": {
     "iopub.execute_input": "2021-12-27T13:24:52.596597Z",
     "iopub.status.busy": "2021-12-27T13:24:52.595929Z",
     "iopub.status.idle": "2021-12-27T13:24:52.601088Z",
     "shell.execute_reply": "2021-12-27T13:24:52.600514Z",
     "shell.execute_reply.started": "2021-12-27T12:24:13.578812Z"
    },
    "papermill": {
     "duration": 0.090091,
     "end_time": "2021-12-27T13:24:52.601256",
     "exception": false,
     "start_time": "2021-12-27T13:24:52.511165",
     "status": "completed"
    },
    "tags": []
   },
   "outputs": [],
   "source": [
    "from sklearn.model_selection import train_test_split\n",
    "X_train,X_test,y_train,y_test=train_test_split(X,y,test_size=0.15,random_state=42)"
   ]
  },
  {
   "cell_type": "code",
   "execution_count": 48,
   "id": "cdfb7fbd",
   "metadata": {
    "execution": {
     "iopub.execute_input": "2021-12-27T13:24:52.758546Z",
     "iopub.status.busy": "2021-12-27T13:24:52.757940Z",
     "iopub.status.idle": "2021-12-27T13:24:52.762279Z",
     "shell.execute_reply": "2021-12-27T13:24:52.762855Z",
     "shell.execute_reply.started": "2021-12-27T12:24:18.823685Z"
    },
    "papermill": {
     "duration": 0.083528,
     "end_time": "2021-12-27T13:24:52.763055",
     "exception": false,
     "start_time": "2021-12-27T13:24:52.679527",
     "status": "completed"
    },
    "tags": []
   },
   "outputs": [
    {
     "data": {
      "text/plain": [
       "(1700, 29)"
      ]
     },
     "execution_count": 48,
     "metadata": {},
     "output_type": "execute_result"
    }
   ],
   "source": [
    "X_train.shape"
   ]
  },
  {
   "cell_type": "code",
   "execution_count": 49,
   "id": "5d189df0",
   "metadata": {
    "execution": {
     "iopub.execute_input": "2021-12-27T13:24:52.916389Z",
     "iopub.status.busy": "2021-12-27T13:24:52.915720Z",
     "iopub.status.idle": "2021-12-27T13:24:52.921310Z",
     "shell.execute_reply": "2021-12-27T13:24:52.921983Z",
     "shell.execute_reply.started": "2021-12-27T12:25:51.547697Z"
    },
    "papermill": {
     "duration": 0.084388,
     "end_time": "2021-12-27T13:24:52.922172",
     "exception": false,
     "start_time": "2021-12-27T13:24:52.837784",
     "status": "completed"
    },
    "tags": []
   },
   "outputs": [
    {
     "data": {
      "text/plain": [
       "(1700,)"
      ]
     },
     "execution_count": 49,
     "metadata": {},
     "output_type": "execute_result"
    }
   ],
   "source": [
    "y_train.shape"
   ]
  },
  {
   "cell_type": "code",
   "execution_count": 50,
   "id": "81b450f6",
   "metadata": {
    "execution": {
     "iopub.execute_input": "2021-12-27T13:24:53.080436Z",
     "iopub.status.busy": "2021-12-27T13:24:53.079777Z",
     "iopub.status.idle": "2021-12-27T13:24:53.084152Z",
     "shell.execute_reply": "2021-12-27T13:24:53.084695Z",
     "shell.execute_reply.started": "2021-12-27T12:26:08.149044Z"
    },
    "papermill": {
     "duration": 0.086623,
     "end_time": "2021-12-27T13:24:53.084882",
     "exception": false,
     "start_time": "2021-12-27T13:24:52.998259",
     "status": "completed"
    },
    "tags": []
   },
   "outputs": [
    {
     "data": {
      "text/plain": [
       "(300, 29)"
      ]
     },
     "execution_count": 50,
     "metadata": {},
     "output_type": "execute_result"
    }
   ],
   "source": [
    "X_test.shape"
   ]
  },
  {
   "cell_type": "code",
   "execution_count": 51,
   "id": "26c3007b",
   "metadata": {
    "execution": {
     "iopub.execute_input": "2021-12-27T13:24:53.241965Z",
     "iopub.status.busy": "2021-12-27T13:24:53.241296Z",
     "iopub.status.idle": "2021-12-27T13:24:53.245406Z",
     "shell.execute_reply": "2021-12-27T13:24:53.245992Z",
     "shell.execute_reply.started": "2021-12-27T12:26:16.968824Z"
    },
    "papermill": {
     "duration": 0.085216,
     "end_time": "2021-12-27T13:24:53.246173",
     "exception": false,
     "start_time": "2021-12-27T13:24:53.160957",
     "status": "completed"
    },
    "tags": []
   },
   "outputs": [
    {
     "data": {
      "text/plain": [
       "(300,)"
      ]
     },
     "execution_count": 51,
     "metadata": {},
     "output_type": "execute_result"
    }
   ],
   "source": [
    "y_test.shape\n"
   ]
  },
  {
   "cell_type": "code",
   "execution_count": null,
   "id": "a217c09c",
   "metadata": {
    "papermill": {
     "duration": 0.076994,
     "end_time": "2021-12-27T13:24:53.399044",
     "exception": false,
     "start_time": "2021-12-27T13:24:53.322050",
     "status": "completed"
    },
    "tags": []
   },
   "outputs": [],
   "source": []
  }
 ],
 "metadata": {
  "kernelspec": {
   "display_name": "Python 3",
   "language": "python",
   "name": "python3"
  },
  "language_info": {
   "codemirror_mode": {
    "name": "ipython",
    "version": 3
   },
   "file_extension": ".py",
   "mimetype": "text/x-python",
   "name": "python",
   "nbconvert_exporter": "python",
   "pygments_lexer": "ipython3",
   "version": "3.7.12"
  },
  "papermill": {
   "default_parameters": {},
   "duration": 27.262134,
   "end_time": "2021-12-27T13:24:54.488034",
   "environment_variables": {},
   "exception": null,
   "input_path": "__notebook__.ipynb",
   "output_path": "__notebook__.ipynb",
   "parameters": {},
   "start_time": "2021-12-27T13:24:27.225900",
   "version": "2.3.3"
  }
 },
 "nbformat": 4,
 "nbformat_minor": 5
}
